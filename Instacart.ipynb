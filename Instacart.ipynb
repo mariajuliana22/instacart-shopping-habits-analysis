{
 "cells": [
  {
   "cell_type": "markdown",
   "id": "4087fdab",
   "metadata": {},
   "source": [
    "# Análisis exploratorio de datos\n",
    "\n",
    "Objetivo: Limpiar los datos y preparar un informe que brinde información sobre los hábitos de compra de los clientes de Instacart. \n",
    "\n",
    "Instacart es una plataforma de entregas de comestibles donde la clientela puede registrar un pedido y hacer que se lo entreguen.\n",
    "\n",
    "Diccionario de datos: Hay cinco tablas en el conjunto de datos\n",
    "\n",
    "instacart_orders.csv: cada fila corresponde a un pedido en la aplicación Instacart.\n",
    "- 'order_id': número de ID que identifica de manera única cada pedido.\n",
    "- 'user_id': número de ID que identifica de manera única la cuenta de cada cliente.\n",
    "- 'order_number': el número de veces que este cliente ha hecho un pedido.\n",
    "- 'order_dow': día de la semana en que se hizo un pedido (0 si es domingo).\n",
    "- 'order_hour_of_day': hora del día en que se hizo el pedido.\n",
    "- 'days_since_prior_order': número de días transcurridos desde que este cliente hizo su pedido anterior.\n",
    "\n",
    "products.csv: cada fila corresponde a un producto único que pueden comprar los clientes.\n",
    "- 'product_id': número ID que identifica de manera única cada producto.\n",
    "- 'product_name': nombre del producto.\n",
    "- 'aisle_id': número ID que identifica de manera única cada categoría de pasillo de víveres.\n",
    "- 'department_id': número ID que identifica de manera única cada departamento de víveres.\n",
    "\n",
    "order_products.csv: cada fila corresponde a un artículo pedido en un pedido.\n",
    "- 'order_id': número de ID que identifica de manera única cada pedido.\n",
    "- 'product_id': número ID que identifica de manera única cada producto.\n",
    "- 'add_to_cart_order': el orden secuencial en el que se añadió cada artículo en el carrito.\n",
    "- 'reordered': 0 si el cliente nunca ha pedido este producto antes, 1 si lo ha pedido.\n",
    "\n",
    "aisles.csv\n",
    "- 'aisle_id': número ID que identifica de manera única cada categoría de pasillo de víveres.\n",
    "- 'aisle': nombre del pasillo.\n",
    "\n",
    "departments.csv\n",
    "- 'department_id': número ID que identifica de manera única cada departamento de víveres.\n",
    "- 'department': nombre del departamento.\n",
    "\n",
    "El proyecto se divide en 3 partes:\n",
    "1. Descripción de los datos.\n",
    "2. Preprocesamiento de datos.\n",
    "3. Análisis de los datos."
   ]
  },
  {
   "cell_type": "markdown",
   "id": "3d2c73a9",
   "metadata": {},
   "source": [
    "## Descripción de los datos."
   ]
  },
  {
   "cell_type": "markdown",
   "id": "8ee6e629",
   "metadata": {},
   "source": [
    "Se importan las librerías que se van a utilizar:"
   ]
  },
  {
   "cell_type": "code",
   "execution_count": 1,
   "id": "fea7d918",
   "metadata": {},
   "outputs": [],
   "source": [
    "import pandas as pd \n",
    "from matplotlib import pyplot as plt"
   ]
  },
  {
   "cell_type": "markdown",
   "id": "4b7e5326",
   "metadata": {},
   "source": [
    "Se leen y examinan los archivos que contienes los datos: "
   ]
  },
  {
   "cell_type": "code",
   "execution_count": 2,
   "id": "19a7f158",
   "metadata": {},
   "outputs": [],
   "source": [
    "orders = pd.read_csv('/datasets/instacart_orders.csv') \n",
    "products = pd.read_csv('/datasets/products.csv')\n",
    "aisles = pd.read_csv('/datasets/aisles.csv')\n",
    "departments = pd.read_csv('/datasets/departments.csv') \n",
    "order_products = pd.read_csv('/datasets/order_products.csv') "
   ]
  },
  {
   "cell_type": "markdown",
   "id": "186a9c20",
   "metadata": {},
   "source": [
    "Verificar los datos de los dataframes:"
   ]
  },
  {
   "cell_type": "code",
   "execution_count": 3,
   "id": "ba5ff81c",
   "metadata": {},
   "outputs": [
    {
     "data": {
      "text/html": [
       "<div>\n",
       "<style scoped>\n",
       "    .dataframe tbody tr th:only-of-type {\n",
       "        vertical-align: middle;\n",
       "    }\n",
       "\n",
       "    .dataframe tbody tr th {\n",
       "        vertical-align: top;\n",
       "    }\n",
       "\n",
       "    .dataframe thead th {\n",
       "        text-align: right;\n",
       "    }\n",
       "</style>\n",
       "<table border=\"1\" class=\"dataframe\">\n",
       "  <thead>\n",
       "    <tr style=\"text-align: right;\">\n",
       "      <th></th>\n",
       "      <th>order_id;user_id;order_number;order_dow;order_hour_of_day;days_since_prior_order</th>\n",
       "    </tr>\n",
       "  </thead>\n",
       "  <tbody>\n",
       "    <tr>\n",
       "      <th>0</th>\n",
       "      <td>1515936;183418;11;6;13;30.0</td>\n",
       "    </tr>\n",
       "    <tr>\n",
       "      <th>1</th>\n",
       "      <td>1690866;163593;5;5;12;9.0</td>\n",
       "    </tr>\n",
       "  </tbody>\n",
       "</table>\n",
       "</div>"
      ],
      "text/plain": [
       "  order_id;user_id;order_number;order_dow;order_hour_of_day;days_since_prior_order\n",
       "0                        1515936;183418;11;6;13;30.0                              \n",
       "1                          1690866;163593;5;5;12;9.0                              "
      ]
     },
     "execution_count": 3,
     "metadata": {},
     "output_type": "execute_result"
    }
   ],
   "source": [
    "orders.head(2)"
   ]
  },
  {
   "cell_type": "code",
   "execution_count": 4,
   "id": "1effa422",
   "metadata": {},
   "outputs": [
    {
     "data": {
      "text/html": [
       "<div>\n",
       "<style scoped>\n",
       "    .dataframe tbody tr th:only-of-type {\n",
       "        vertical-align: middle;\n",
       "    }\n",
       "\n",
       "    .dataframe tbody tr th {\n",
       "        vertical-align: top;\n",
       "    }\n",
       "\n",
       "    .dataframe thead th {\n",
       "        text-align: right;\n",
       "    }\n",
       "</style>\n",
       "<table border=\"1\" class=\"dataframe\">\n",
       "  <thead>\n",
       "    <tr style=\"text-align: right;\">\n",
       "      <th></th>\n",
       "      <th>product_id;product_name;aisle_id;department_id</th>\n",
       "    </tr>\n",
       "  </thead>\n",
       "  <tbody>\n",
       "    <tr>\n",
       "      <th>0</th>\n",
       "      <td>1;Chocolate Sandwich Cookies;61;19</td>\n",
       "    </tr>\n",
       "    <tr>\n",
       "      <th>1</th>\n",
       "      <td>2;All-Seasons Salt;104;13</td>\n",
       "    </tr>\n",
       "  </tbody>\n",
       "</table>\n",
       "</div>"
      ],
      "text/plain": [
       "  product_id;product_name;aisle_id;department_id\n",
       "0             1;Chocolate Sandwich Cookies;61;19\n",
       "1                      2;All-Seasons Salt;104;13"
      ]
     },
     "execution_count": 4,
     "metadata": {},
     "output_type": "execute_result"
    }
   ],
   "source": [
    "products.head(2)"
   ]
  },
  {
   "cell_type": "code",
   "execution_count": 5,
   "id": "02b955a9",
   "metadata": {},
   "outputs": [
    {
     "data": {
      "text/html": [
       "<div>\n",
       "<style scoped>\n",
       "    .dataframe tbody tr th:only-of-type {\n",
       "        vertical-align: middle;\n",
       "    }\n",
       "\n",
       "    .dataframe tbody tr th {\n",
       "        vertical-align: top;\n",
       "    }\n",
       "\n",
       "    .dataframe thead th {\n",
       "        text-align: right;\n",
       "    }\n",
       "</style>\n",
       "<table border=\"1\" class=\"dataframe\">\n",
       "  <thead>\n",
       "    <tr style=\"text-align: right;\">\n",
       "      <th></th>\n",
       "      <th>aisle_id;aisle</th>\n",
       "    </tr>\n",
       "  </thead>\n",
       "  <tbody>\n",
       "    <tr>\n",
       "      <th>0</th>\n",
       "      <td>1;prepared soups salads</td>\n",
       "    </tr>\n",
       "    <tr>\n",
       "      <th>1</th>\n",
       "      <td>2;specialty cheeses</td>\n",
       "    </tr>\n",
       "  </tbody>\n",
       "</table>\n",
       "</div>"
      ],
      "text/plain": [
       "            aisle_id;aisle\n",
       "0  1;prepared soups salads\n",
       "1      2;specialty cheeses"
      ]
     },
     "execution_count": 5,
     "metadata": {},
     "output_type": "execute_result"
    }
   ],
   "source": [
    "aisles.head(2)"
   ]
  },
  {
   "cell_type": "code",
   "execution_count": 6,
   "id": "747fb75c",
   "metadata": {},
   "outputs": [
    {
     "data": {
      "text/html": [
       "<div>\n",
       "<style scoped>\n",
       "    .dataframe tbody tr th:only-of-type {\n",
       "        vertical-align: middle;\n",
       "    }\n",
       "\n",
       "    .dataframe tbody tr th {\n",
       "        vertical-align: top;\n",
       "    }\n",
       "\n",
       "    .dataframe thead th {\n",
       "        text-align: right;\n",
       "    }\n",
       "</style>\n",
       "<table border=\"1\" class=\"dataframe\">\n",
       "  <thead>\n",
       "    <tr style=\"text-align: right;\">\n",
       "      <th></th>\n",
       "      <th>department_id;department</th>\n",
       "    </tr>\n",
       "  </thead>\n",
       "  <tbody>\n",
       "    <tr>\n",
       "      <th>0</th>\n",
       "      <td>1;frozen</td>\n",
       "    </tr>\n",
       "    <tr>\n",
       "      <th>1</th>\n",
       "      <td>2;other</td>\n",
       "    </tr>\n",
       "  </tbody>\n",
       "</table>\n",
       "</div>"
      ],
      "text/plain": [
       "  department_id;department\n",
       "0                 1;frozen\n",
       "1                  2;other"
      ]
     },
     "execution_count": 6,
     "metadata": {},
     "output_type": "execute_result"
    }
   ],
   "source": [
    "departments.head(2)"
   ]
  },
  {
   "cell_type": "code",
   "execution_count": 7,
   "id": "84cbc901",
   "metadata": {},
   "outputs": [
    {
     "data": {
      "text/html": [
       "<div>\n",
       "<style scoped>\n",
       "    .dataframe tbody tr th:only-of-type {\n",
       "        vertical-align: middle;\n",
       "    }\n",
       "\n",
       "    .dataframe tbody tr th {\n",
       "        vertical-align: top;\n",
       "    }\n",
       "\n",
       "    .dataframe thead th {\n",
       "        text-align: right;\n",
       "    }\n",
       "</style>\n",
       "<table border=\"1\" class=\"dataframe\">\n",
       "  <thead>\n",
       "    <tr style=\"text-align: right;\">\n",
       "      <th></th>\n",
       "      <th>order_id;product_id;add_to_cart_order;reordered</th>\n",
       "    </tr>\n",
       "  </thead>\n",
       "  <tbody>\n",
       "    <tr>\n",
       "      <th>0</th>\n",
       "      <td>2141543;11440;17.0;0</td>\n",
       "    </tr>\n",
       "    <tr>\n",
       "      <th>1</th>\n",
       "      <td>567889;1560;1.0;1</td>\n",
       "    </tr>\n",
       "  </tbody>\n",
       "</table>\n",
       "</div>"
      ],
      "text/plain": [
       "  order_id;product_id;add_to_cart_order;reordered\n",
       "0                            2141543;11440;17.0;0\n",
       "1                               567889;1560;1.0;1"
      ]
     },
     "execution_count": 7,
     "metadata": {},
     "output_type": "execute_result"
    }
   ],
   "source": [
    "order_products.head(2) "
   ]
  },
  {
   "cell_type": "markdown",
   "id": "12ad9e19",
   "metadata": {},
   "source": [
    "Los 5 archivos CSV utilizan ';' como separador, por lo que es necesario establecer este parámetro para lograr una correcta visualización."
   ]
  },
  {
   "cell_type": "code",
   "execution_count": 8,
   "id": "2a434640",
   "metadata": {},
   "outputs": [],
   "source": [
    "orders = pd.read_csv('/datasets/instacart_orders.csv', sep=';') \n",
    "products = pd.read_csv('/datasets/products.csv', sep=';')\n",
    "aisles = pd.read_csv('/datasets/aisles.csv', sep=';')\n",
    "departments = pd.read_csv('/datasets/departments.csv', sep=';') \n",
    "order_products = pd.read_csv('/datasets/order_products.csv', sep=';') "
   ]
  },
  {
   "cell_type": "markdown",
   "id": "4a5a7f5f",
   "metadata": {},
   "source": [
    "Mostrar la información general de los datos de cada dataframe:"
   ]
  },
  {
   "cell_type": "code",
   "execution_count": 9,
   "id": "b6c7c194",
   "metadata": {},
   "outputs": [
    {
     "name": "stdout",
     "output_type": "stream",
     "text": [
      "<class 'pandas.core.frame.DataFrame'>\n",
      "RangeIndex: 478967 entries, 0 to 478966\n",
      "Data columns (total 6 columns):\n",
      " #   Column                  Non-Null Count   Dtype  \n",
      "---  ------                  --------------   -----  \n",
      " 0   order_id                478967 non-null  int64  \n",
      " 1   user_id                 478967 non-null  int64  \n",
      " 2   order_number            478967 non-null  int64  \n",
      " 3   order_dow               478967 non-null  int64  \n",
      " 4   order_hour_of_day       478967 non-null  int64  \n",
      " 5   days_since_prior_order  450148 non-null  float64\n",
      "dtypes: float64(1), int64(5)\n",
      "memory usage: 21.9 MB\n"
     ]
    }
   ],
   "source": [
    "orders.info() "
   ]
  },
  {
   "cell_type": "markdown",
   "id": "12e8a87e",
   "metadata": {},
   "source": [
    "Hay valores ausentes en la columan 'days_since_prior_order'. Los tipos de datos almacenados son correctos."
   ]
  },
  {
   "cell_type": "code",
   "execution_count": 10,
   "id": "765074b1",
   "metadata": {},
   "outputs": [
    {
     "name": "stdout",
     "output_type": "stream",
     "text": [
      "<class 'pandas.core.frame.DataFrame'>\n",
      "RangeIndex: 49694 entries, 0 to 49693\n",
      "Data columns (total 4 columns):\n",
      " #   Column         Non-Null Count  Dtype \n",
      "---  ------         --------------  ----- \n",
      " 0   product_id     49694 non-null  int64 \n",
      " 1   product_name   48436 non-null  object\n",
      " 2   aisle_id       49694 non-null  int64 \n",
      " 3   department_id  49694 non-null  int64 \n",
      "dtypes: int64(3), object(1)\n",
      "memory usage: 1.5+ MB\n"
     ]
    }
   ],
   "source": [
    "products.info() "
   ]
  },
  {
   "cell_type": "markdown",
   "id": "ab3485c4",
   "metadata": {},
   "source": [
    "Hay valores ausentes en 'product_name'. Los tipos de datos almacenados son correctos."
   ]
  },
  {
   "cell_type": "code",
   "execution_count": 11,
   "id": "f72ad75d",
   "metadata": {},
   "outputs": [
    {
     "name": "stdout",
     "output_type": "stream",
     "text": [
      "<class 'pandas.core.frame.DataFrame'>\n",
      "RangeIndex: 134 entries, 0 to 133\n",
      "Data columns (total 2 columns):\n",
      " #   Column    Non-Null Count  Dtype \n",
      "---  ------    --------------  ----- \n",
      " 0   aisle_id  134 non-null    int64 \n",
      " 1   aisle     134 non-null    object\n",
      "dtypes: int64(1), object(1)\n",
      "memory usage: 2.2+ KB\n"
     ]
    }
   ],
   "source": [
    "aisles.info()"
   ]
  },
  {
   "cell_type": "markdown",
   "id": "8bb9df46",
   "metadata": {},
   "source": [
    "No hay valores ausentes. Los tipos de datos almacenados son correctos."
   ]
  },
  {
   "cell_type": "code",
   "execution_count": 12,
   "id": "dbae8f16",
   "metadata": {},
   "outputs": [
    {
     "name": "stdout",
     "output_type": "stream",
     "text": [
      "<class 'pandas.core.frame.DataFrame'>\n",
      "RangeIndex: 21 entries, 0 to 20\n",
      "Data columns (total 2 columns):\n",
      " #   Column         Non-Null Count  Dtype \n",
      "---  ------         --------------  ----- \n",
      " 0   department_id  21 non-null     int64 \n",
      " 1   department     21 non-null     object\n",
      "dtypes: int64(1), object(1)\n",
      "memory usage: 464.0+ bytes\n"
     ]
    }
   ],
   "source": [
    "departments.info()"
   ]
  },
  {
   "cell_type": "markdown",
   "id": "a2376226",
   "metadata": {},
   "source": [
    "No hay valores ausentes. Los tipos de datos almacenados son correctos."
   ]
  },
  {
   "cell_type": "code",
   "execution_count": 13,
   "id": "e70c6285",
   "metadata": {},
   "outputs": [
    {
     "name": "stdout",
     "output_type": "stream",
     "text": [
      "<class 'pandas.core.frame.DataFrame'>\n",
      "RangeIndex: 4545007 entries, 0 to 4545006\n",
      "Data columns (total 4 columns):\n",
      " #   Column             Non-Null Count    Dtype  \n",
      "---  ------             --------------    -----  \n",
      " 0   order_id           4545007 non-null  int64  \n",
      " 1   product_id         4545007 non-null  int64  \n",
      " 2   add_to_cart_order  4544171 non-null  float64\n",
      " 3   reordered          4545007 non-null  int64  \n",
      "dtypes: float64(1), int64(3)\n",
      "memory usage: 138.7 MB\n"
     ]
    }
   ],
   "source": [
    "#Se utiliza show_counts=True para que se muestran los valores ausentes cuando hay muchos datos\n",
    "order_products.info(show_counts=True) "
   ]
  },
  {
   "cell_type": "markdown",
   "id": "32d5bf09",
   "metadata": {},
   "source": [
    "No hay valores ausentes. Los tipos de datos almacenados son correctos."
   ]
  },
  {
   "cell_type": "markdown",
   "id": "43f254d5",
   "metadata": {},
   "source": [
    "## Preprocesamiento de datos"
   ]
  },
  {
   "cell_type": "markdown",
   "id": "4a975fc3",
   "metadata": {},
   "source": [
    "Encontrar y eliminar los valores duplicados y ausentes:"
   ]
  },
  {
   "cell_type": "markdown",
   "id": "1f063efe",
   "metadata": {},
   "source": [
    "### DataFrame `orders`"
   ]
  },
  {
   "cell_type": "code",
   "execution_count": 14,
   "id": "ea069ee2",
   "metadata": {},
   "outputs": [
    {
     "data": {
      "text/html": [
       "<div>\n",
       "<style scoped>\n",
       "    .dataframe tbody tr th:only-of-type {\n",
       "        vertical-align: middle;\n",
       "    }\n",
       "\n",
       "    .dataframe tbody tr th {\n",
       "        vertical-align: top;\n",
       "    }\n",
       "\n",
       "    .dataframe thead th {\n",
       "        text-align: right;\n",
       "    }\n",
       "</style>\n",
       "<table border=\"1\" class=\"dataframe\">\n",
       "  <thead>\n",
       "    <tr style=\"text-align: right;\">\n",
       "      <th></th>\n",
       "      <th>order_id</th>\n",
       "      <th>user_id</th>\n",
       "      <th>order_number</th>\n",
       "      <th>order_dow</th>\n",
       "      <th>order_hour_of_day</th>\n",
       "      <th>days_since_prior_order</th>\n",
       "    </tr>\n",
       "  </thead>\n",
       "  <tbody>\n",
       "    <tr>\n",
       "      <th>145574</th>\n",
       "      <td>794638</td>\n",
       "      <td>50898</td>\n",
       "      <td>24</td>\n",
       "      <td>3</td>\n",
       "      <td>2</td>\n",
       "      <td>2.0</td>\n",
       "    </tr>\n",
       "    <tr>\n",
       "      <th>223105</th>\n",
       "      <td>2160484</td>\n",
       "      <td>107525</td>\n",
       "      <td>16</td>\n",
       "      <td>3</td>\n",
       "      <td>2</td>\n",
       "      <td>30.0</td>\n",
       "    </tr>\n",
       "    <tr>\n",
       "      <th>230807</th>\n",
       "      <td>1918001</td>\n",
       "      <td>188546</td>\n",
       "      <td>14</td>\n",
       "      <td>3</td>\n",
       "      <td>2</td>\n",
       "      <td>16.0</td>\n",
       "    </tr>\n",
       "    <tr>\n",
       "      <th>266232</th>\n",
       "      <td>1782114</td>\n",
       "      <td>106752</td>\n",
       "      <td>1</td>\n",
       "      <td>3</td>\n",
       "      <td>2</td>\n",
       "      <td>NaN</td>\n",
       "    </tr>\n",
       "    <tr>\n",
       "      <th>273805</th>\n",
       "      <td>1112182</td>\n",
       "      <td>202304</td>\n",
       "      <td>84</td>\n",
       "      <td>3</td>\n",
       "      <td>2</td>\n",
       "      <td>6.0</td>\n",
       "    </tr>\n",
       "    <tr>\n",
       "      <th>284038</th>\n",
       "      <td>2845099</td>\n",
       "      <td>31189</td>\n",
       "      <td>11</td>\n",
       "      <td>3</td>\n",
       "      <td>2</td>\n",
       "      <td>7.0</td>\n",
       "    </tr>\n",
       "    <tr>\n",
       "      <th>311713</th>\n",
       "      <td>1021560</td>\n",
       "      <td>53767</td>\n",
       "      <td>3</td>\n",
       "      <td>3</td>\n",
       "      <td>2</td>\n",
       "      <td>9.0</td>\n",
       "    </tr>\n",
       "    <tr>\n",
       "      <th>321100</th>\n",
       "      <td>408114</td>\n",
       "      <td>68324</td>\n",
       "      <td>4</td>\n",
       "      <td>3</td>\n",
       "      <td>2</td>\n",
       "      <td>18.0</td>\n",
       "    </tr>\n",
       "    <tr>\n",
       "      <th>323900</th>\n",
       "      <td>1919531</td>\n",
       "      <td>191501</td>\n",
       "      <td>32</td>\n",
       "      <td>3</td>\n",
       "      <td>2</td>\n",
       "      <td>7.0</td>\n",
       "    </tr>\n",
       "    <tr>\n",
       "      <th>345917</th>\n",
       "      <td>2232988</td>\n",
       "      <td>82565</td>\n",
       "      <td>1</td>\n",
       "      <td>3</td>\n",
       "      <td>2</td>\n",
       "      <td>NaN</td>\n",
       "    </tr>\n",
       "    <tr>\n",
       "      <th>371905</th>\n",
       "      <td>391768</td>\n",
       "      <td>57671</td>\n",
       "      <td>19</td>\n",
       "      <td>3</td>\n",
       "      <td>2</td>\n",
       "      <td>10.0</td>\n",
       "    </tr>\n",
       "    <tr>\n",
       "      <th>394347</th>\n",
       "      <td>467134</td>\n",
       "      <td>63189</td>\n",
       "      <td>21</td>\n",
       "      <td>3</td>\n",
       "      <td>2</td>\n",
       "      <td>2.0</td>\n",
       "    </tr>\n",
       "    <tr>\n",
       "      <th>411408</th>\n",
       "      <td>1286742</td>\n",
       "      <td>183220</td>\n",
       "      <td>48</td>\n",
       "      <td>3</td>\n",
       "      <td>2</td>\n",
       "      <td>4.0</td>\n",
       "    </tr>\n",
       "    <tr>\n",
       "      <th>415163</th>\n",
       "      <td>2282673</td>\n",
       "      <td>86751</td>\n",
       "      <td>49</td>\n",
       "      <td>3</td>\n",
       "      <td>2</td>\n",
       "      <td>2.0</td>\n",
       "    </tr>\n",
       "    <tr>\n",
       "      <th>441599</th>\n",
       "      <td>2125197</td>\n",
       "      <td>14050</td>\n",
       "      <td>48</td>\n",
       "      <td>3</td>\n",
       "      <td>2</td>\n",
       "      <td>3.0</td>\n",
       "    </tr>\n",
       "  </tbody>\n",
       "</table>\n",
       "</div>"
      ],
      "text/plain": [
       "        order_id  user_id  order_number  order_dow  order_hour_of_day  \\\n",
       "145574    794638    50898            24          3                  2   \n",
       "223105   2160484   107525            16          3                  2   \n",
       "230807   1918001   188546            14          3                  2   \n",
       "266232   1782114   106752             1          3                  2   \n",
       "273805   1112182   202304            84          3                  2   \n",
       "284038   2845099    31189            11          3                  2   \n",
       "311713   1021560    53767             3          3                  2   \n",
       "321100    408114    68324             4          3                  2   \n",
       "323900   1919531   191501            32          3                  2   \n",
       "345917   2232988    82565             1          3                  2   \n",
       "371905    391768    57671            19          3                  2   \n",
       "394347    467134    63189            21          3                  2   \n",
       "411408   1286742   183220            48          3                  2   \n",
       "415163   2282673    86751            49          3                  2   \n",
       "441599   2125197    14050            48          3                  2   \n",
       "\n",
       "        days_since_prior_order  \n",
       "145574                     2.0  \n",
       "223105                    30.0  \n",
       "230807                    16.0  \n",
       "266232                     NaN  \n",
       "273805                     6.0  \n",
       "284038                     7.0  \n",
       "311713                     9.0  \n",
       "321100                    18.0  \n",
       "323900                     7.0  \n",
       "345917                     NaN  \n",
       "371905                    10.0  \n",
       "394347                     2.0  \n",
       "411408                     4.0  \n",
       "415163                     2.0  \n",
       "441599                     3.0  "
      ]
     },
     "execution_count": 14,
     "metadata": {},
     "output_type": "execute_result"
    }
   ],
   "source": [
    "# Verifica si hay filas totalmente duplicadas\n",
    "orders[orders.duplicated()]"
   ]
  },
  {
   "cell_type": "markdown",
   "id": "48481fd1",
   "metadata": {},
   "source": [
    "Hay líneas duplicadas y todas tienen mismo día y hora de pedido (miércoles 2:00am)"
   ]
  },
  {
   "cell_type": "code",
   "execution_count": 15,
   "id": "48d445c0",
   "metadata": {},
   "outputs": [
    {
     "name": "stdout",
     "output_type": "stream",
     "text": [
      "        order_id  user_id  order_number  order_dow  order_hour_of_day  \\\n",
      "4838     2766110   162084            41          3                  2   \n",
      "5156     2190225   138285            18          3                  2   \n",
      "15506     553049    58599            13          3                  2   \n",
      "18420     382357   120200            19          3                  2   \n",
      "24691     690242    77357             2          3                  2   \n",
      "...          ...      ...           ...        ...                ...   \n",
      "457013   3384021    14881             6          3                  2   \n",
      "458816    910166   164782            18          3                  2   \n",
      "459635   1680532   106435             6          3                  2   \n",
      "468324    222962    54979            59          3                  2   \n",
      "477526   2592344    46860            38          3                  2   \n",
      "\n",
      "        days_since_prior_order  \n",
      "4838                      16.0  \n",
      "5156                      11.0  \n",
      "15506                      7.0  \n",
      "18420                     11.0  \n",
      "24691                      9.0  \n",
      "...                        ...  \n",
      "457013                    30.0  \n",
      "458816                     4.0  \n",
      "459635                    21.0  \n",
      "468324                     3.0  \n",
      "477526                     3.0  \n",
      "\n",
      "[121 rows x 6 columns]\n"
     ]
    }
   ],
   "source": [
    "#Verificar todos los pedidos que se hicieron el miércoles a las 2:00 a.m.\n",
    "print(orders[(orders['order_dow'] == 3) & (orders['order_hour_of_day'] == 2)])"
   ]
  },
  {
   "cell_type": "markdown",
   "id": "f272f369",
   "metadata": {},
   "source": [
    "Hay 121 pedidos que se hicieron el miércoles a las 2am."
   ]
  },
  {
   "cell_type": "code",
   "execution_count": 16,
   "id": "b981f850",
   "metadata": {},
   "outputs": [],
   "source": [
    "#Eliminar los pedidos duplicados\n",
    "orders = orders.drop_duplicates()"
   ]
  },
  {
   "cell_type": "code",
   "execution_count": 17,
   "id": "183f2f33",
   "metadata": {},
   "outputs": [
    {
     "data": {
      "text/html": [
       "<div>\n",
       "<style scoped>\n",
       "    .dataframe tbody tr th:only-of-type {\n",
       "        vertical-align: middle;\n",
       "    }\n",
       "\n",
       "    .dataframe tbody tr th {\n",
       "        vertical-align: top;\n",
       "    }\n",
       "\n",
       "    .dataframe thead th {\n",
       "        text-align: right;\n",
       "    }\n",
       "</style>\n",
       "<table border=\"1\" class=\"dataframe\">\n",
       "  <thead>\n",
       "    <tr style=\"text-align: right;\">\n",
       "      <th></th>\n",
       "      <th>order_id</th>\n",
       "      <th>user_id</th>\n",
       "      <th>order_number</th>\n",
       "      <th>order_dow</th>\n",
       "      <th>order_hour_of_day</th>\n",
       "      <th>days_since_prior_order</th>\n",
       "    </tr>\n",
       "  </thead>\n",
       "  <tbody>\n",
       "    <tr>\n",
       "      <th>28</th>\n",
       "      <td>133707</td>\n",
       "      <td>182261</td>\n",
       "      <td>1</td>\n",
       "      <td>3</td>\n",
       "      <td>10</td>\n",
       "      <td>NaN</td>\n",
       "    </tr>\n",
       "    <tr>\n",
       "      <th>96</th>\n",
       "      <td>787445</td>\n",
       "      <td>25685</td>\n",
       "      <td>1</td>\n",
       "      <td>6</td>\n",
       "      <td>18</td>\n",
       "      <td>NaN</td>\n",
       "    </tr>\n",
       "    <tr>\n",
       "      <th>100</th>\n",
       "      <td>294410</td>\n",
       "      <td>111449</td>\n",
       "      <td>1</td>\n",
       "      <td>0</td>\n",
       "      <td>19</td>\n",
       "      <td>NaN</td>\n",
       "    </tr>\n",
       "    <tr>\n",
       "      <th>103</th>\n",
       "      <td>2869915</td>\n",
       "      <td>123958</td>\n",
       "      <td>1</td>\n",
       "      <td>4</td>\n",
       "      <td>16</td>\n",
       "      <td>NaN</td>\n",
       "    </tr>\n",
       "    <tr>\n",
       "      <th>104</th>\n",
       "      <td>2521921</td>\n",
       "      <td>42286</td>\n",
       "      <td>1</td>\n",
       "      <td>3</td>\n",
       "      <td>18</td>\n",
       "      <td>NaN</td>\n",
       "    </tr>\n",
       "    <tr>\n",
       "      <th>...</th>\n",
       "      <td>...</td>\n",
       "      <td>...</td>\n",
       "      <td>...</td>\n",
       "      <td>...</td>\n",
       "      <td>...</td>\n",
       "      <td>...</td>\n",
       "    </tr>\n",
       "    <tr>\n",
       "      <th>478895</th>\n",
       "      <td>2589657</td>\n",
       "      <td>205028</td>\n",
       "      <td>1</td>\n",
       "      <td>0</td>\n",
       "      <td>16</td>\n",
       "      <td>NaN</td>\n",
       "    </tr>\n",
       "    <tr>\n",
       "      <th>478896</th>\n",
       "      <td>2222353</td>\n",
       "      <td>141211</td>\n",
       "      <td>1</td>\n",
       "      <td>2</td>\n",
       "      <td>13</td>\n",
       "      <td>NaN</td>\n",
       "    </tr>\n",
       "    <tr>\n",
       "      <th>478922</th>\n",
       "      <td>2272807</td>\n",
       "      <td>204154</td>\n",
       "      <td>1</td>\n",
       "      <td>1</td>\n",
       "      <td>15</td>\n",
       "      <td>NaN</td>\n",
       "    </tr>\n",
       "    <tr>\n",
       "      <th>478926</th>\n",
       "      <td>2499542</td>\n",
       "      <td>68810</td>\n",
       "      <td>1</td>\n",
       "      <td>4</td>\n",
       "      <td>19</td>\n",
       "      <td>NaN</td>\n",
       "    </tr>\n",
       "    <tr>\n",
       "      <th>478945</th>\n",
       "      <td>1387033</td>\n",
       "      <td>22496</td>\n",
       "      <td>1</td>\n",
       "      <td>5</td>\n",
       "      <td>14</td>\n",
       "      <td>NaN</td>\n",
       "    </tr>\n",
       "  </tbody>\n",
       "</table>\n",
       "<p>28817 rows × 6 columns</p>\n",
       "</div>"
      ],
      "text/plain": [
       "        order_id  user_id  order_number  order_dow  order_hour_of_day  \\\n",
       "28        133707   182261             1          3                 10   \n",
       "96        787445    25685             1          6                 18   \n",
       "100       294410   111449             1          0                 19   \n",
       "103      2869915   123958             1          4                 16   \n",
       "104      2521921    42286             1          3                 18   \n",
       "...          ...      ...           ...        ...                ...   \n",
       "478895   2589657   205028             1          0                 16   \n",
       "478896   2222353   141211             1          2                 13   \n",
       "478922   2272807   204154             1          1                 15   \n",
       "478926   2499542    68810             1          4                 19   \n",
       "478945   1387033    22496             1          5                 14   \n",
       "\n",
       "        days_since_prior_order  \n",
       "28                         NaN  \n",
       "96                         NaN  \n",
       "100                        NaN  \n",
       "103                        NaN  \n",
       "104                        NaN  \n",
       "...                        ...  \n",
       "478895                     NaN  \n",
       "478896                     NaN  \n",
       "478922                     NaN  \n",
       "478926                     NaN  \n",
       "478945                     NaN  \n",
       "\n",
       "[28817 rows x 6 columns]"
      ]
     },
     "execution_count": 17,
     "metadata": {},
     "output_type": "execute_result"
    }
   ],
   "source": [
    "#Encuentra los valores ausentes de la columna 'days_since_prior_order'\n",
    "orders[orders['days_since_prior_order'].isna()]"
   ]
  },
  {
   "cell_type": "code",
   "execution_count": 18,
   "id": "c38bcb0d",
   "metadata": {},
   "outputs": [
    {
     "data": {
      "text/plain": [
       "order_id  user_id  order_number  order_dow  order_hour_of_day  days_since_prior_order\n",
       "False     False    False         False      False              True                      28817\n",
       "dtype: int64"
      ]
     },
     "execution_count": 18,
     "metadata": {},
     "output_type": "execute_result"
    }
   ],
   "source": [
    "#Verificar si hay algún valor ausente que no sea el primer pedido del cliente\n",
    "orders[orders['order_number'] == 1].isna().value_counts()"
   ]
  },
  {
   "cell_type": "markdown",
   "id": "610db135",
   "metadata": {},
   "source": [
    "No hay valores ausente que no sea el primer pedido del cliente, por lo que es seguro afirmar estos valores están ausentes porque era el primer pedido, por lo que no había información para 'días desde el último pedido'."
   ]
  },
  {
   "cell_type": "markdown",
   "id": "78c35cbf",
   "metadata": {},
   "source": [
    "Verificar que los valores en las columnas 'order_hour_of_day' y 'order_dow' en la tabla orders sean razonables (es decir, 'order_hour_of_day' oscile entre 0 y 23 y 'order_dow' oscile entre 0 y 6):"
   ]
  },
  {
   "cell_type": "code",
   "execution_count": 19,
   "id": "bcc98ff3",
   "metadata": {},
   "outputs": [
    {
     "data": {
      "text/plain": [
       "array([ 0,  1,  2,  3,  4,  5,  6,  7,  8,  9, 10, 11, 12, 13, 14, 15, 16,\n",
       "       17, 18, 19, 20, 21, 22, 23])"
      ]
     },
     "execution_count": 19,
     "metadata": {},
     "output_type": "execute_result"
    }
   ],
   "source": [
    "orders['order_hour_of_day'].sort_values().unique()"
   ]
  },
  {
   "cell_type": "code",
   "execution_count": 20,
   "id": "4f42999c",
   "metadata": {},
   "outputs": [
    {
     "data": {
      "text/plain": [
       "array([0, 1, 2, 3, 4, 5, 6])"
      ]
     },
     "execution_count": 20,
     "metadata": {},
     "output_type": "execute_result"
    }
   ],
   "source": [
    "orders['order_dow'].sort_values().unique()"
   ]
  },
  {
   "cell_type": "markdown",
   "id": "d63010af",
   "metadata": {},
   "source": [
    "Los valores de 'order_hour_of_day' y 'order_dow' son razonables, ya que están entre 0-23 y 0-6, respectivamente."
   ]
  },
  {
   "cell_type": "markdown",
   "id": "acad1835",
   "metadata": {},
   "source": [
    "### DataFrame `products`"
   ]
  },
  {
   "cell_type": "code",
   "execution_count": 21,
   "id": "c9cd8d62",
   "metadata": {},
   "outputs": [
    {
     "data": {
      "text/html": [
       "<div>\n",
       "<style scoped>\n",
       "    .dataframe tbody tr th:only-of-type {\n",
       "        vertical-align: middle;\n",
       "    }\n",
       "\n",
       "    .dataframe tbody tr th {\n",
       "        vertical-align: top;\n",
       "    }\n",
       "\n",
       "    .dataframe thead th {\n",
       "        text-align: right;\n",
       "    }\n",
       "</style>\n",
       "<table border=\"1\" class=\"dataframe\">\n",
       "  <thead>\n",
       "    <tr style=\"text-align: right;\">\n",
       "      <th></th>\n",
       "      <th>product_id</th>\n",
       "      <th>product_name</th>\n",
       "      <th>aisle_id</th>\n",
       "      <th>department_id</th>\n",
       "    </tr>\n",
       "  </thead>\n",
       "  <tbody>\n",
       "  </tbody>\n",
       "</table>\n",
       "</div>"
      ],
      "text/plain": [
       "Empty DataFrame\n",
       "Columns: [product_id, product_name, aisle_id, department_id]\n",
       "Index: []"
      ]
     },
     "execution_count": 21,
     "metadata": {},
     "output_type": "execute_result"
    }
   ],
   "source": [
    "#Verifica si hay filas totalmente duplicadas\n",
    "products[products.duplicated()]"
   ]
  },
  {
   "cell_type": "markdown",
   "id": "efd55ed9",
   "metadata": {},
   "source": [
    "No hay filas duplicadas."
   ]
  },
  {
   "cell_type": "code",
   "execution_count": 22,
   "id": "86b626c0",
   "metadata": {},
   "outputs": [
    {
     "data": {
      "text/html": [
       "<div>\n",
       "<style scoped>\n",
       "    .dataframe tbody tr th:only-of-type {\n",
       "        vertical-align: middle;\n",
       "    }\n",
       "\n",
       "    .dataframe tbody tr th {\n",
       "        vertical-align: top;\n",
       "    }\n",
       "\n",
       "    .dataframe thead th {\n",
       "        text-align: right;\n",
       "    }\n",
       "</style>\n",
       "<table border=\"1\" class=\"dataframe\">\n",
       "  <thead>\n",
       "    <tr style=\"text-align: right;\">\n",
       "      <th></th>\n",
       "      <th>product_id</th>\n",
       "      <th>product_name</th>\n",
       "      <th>aisle_id</th>\n",
       "      <th>department_id</th>\n",
       "    </tr>\n",
       "  </thead>\n",
       "  <tbody>\n",
       "    <tr>\n",
       "      <th>37</th>\n",
       "      <td>38</td>\n",
       "      <td>NaN</td>\n",
       "      <td>100</td>\n",
       "      <td>21</td>\n",
       "    </tr>\n",
       "    <tr>\n",
       "      <th>71</th>\n",
       "      <td>72</td>\n",
       "      <td>NaN</td>\n",
       "      <td>100</td>\n",
       "      <td>21</td>\n",
       "    </tr>\n",
       "    <tr>\n",
       "      <th>109</th>\n",
       "      <td>110</td>\n",
       "      <td>NaN</td>\n",
       "      <td>100</td>\n",
       "      <td>21</td>\n",
       "    </tr>\n",
       "    <tr>\n",
       "      <th>296</th>\n",
       "      <td>297</td>\n",
       "      <td>NaN</td>\n",
       "      <td>100</td>\n",
       "      <td>21</td>\n",
       "    </tr>\n",
       "    <tr>\n",
       "      <th>416</th>\n",
       "      <td>417</td>\n",
       "      <td>NaN</td>\n",
       "      <td>100</td>\n",
       "      <td>21</td>\n",
       "    </tr>\n",
       "    <tr>\n",
       "      <th>...</th>\n",
       "      <td>...</td>\n",
       "      <td>...</td>\n",
       "      <td>...</td>\n",
       "      <td>...</td>\n",
       "    </tr>\n",
       "    <tr>\n",
       "      <th>49552</th>\n",
       "      <td>49553</td>\n",
       "      <td>NaN</td>\n",
       "      <td>100</td>\n",
       "      <td>21</td>\n",
       "    </tr>\n",
       "    <tr>\n",
       "      <th>49574</th>\n",
       "      <td>49575</td>\n",
       "      <td>NaN</td>\n",
       "      <td>100</td>\n",
       "      <td>21</td>\n",
       "    </tr>\n",
       "    <tr>\n",
       "      <th>49640</th>\n",
       "      <td>49641</td>\n",
       "      <td>NaN</td>\n",
       "      <td>100</td>\n",
       "      <td>21</td>\n",
       "    </tr>\n",
       "    <tr>\n",
       "      <th>49663</th>\n",
       "      <td>49664</td>\n",
       "      <td>NaN</td>\n",
       "      <td>100</td>\n",
       "      <td>21</td>\n",
       "    </tr>\n",
       "    <tr>\n",
       "      <th>49668</th>\n",
       "      <td>49669</td>\n",
       "      <td>NaN</td>\n",
       "      <td>100</td>\n",
       "      <td>21</td>\n",
       "    </tr>\n",
       "  </tbody>\n",
       "</table>\n",
       "<p>1258 rows × 4 columns</p>\n",
       "</div>"
      ],
      "text/plain": [
       "       product_id product_name  aisle_id  department_id\n",
       "37             38          NaN       100             21\n",
       "71             72          NaN       100             21\n",
       "109           110          NaN       100             21\n",
       "296           297          NaN       100             21\n",
       "416           417          NaN       100             21\n",
       "...           ...          ...       ...            ...\n",
       "49552       49553          NaN       100             21\n",
       "49574       49575          NaN       100             21\n",
       "49640       49641          NaN       100             21\n",
       "49663       49664          NaN       100             21\n",
       "49668       49669          NaN       100             21\n",
       "\n",
       "[1258 rows x 4 columns]"
      ]
     },
     "execution_count": 22,
     "metadata": {},
     "output_type": "execute_result"
    }
   ],
   "source": [
    "#Encuentra los valores ausentes en la columna 'product_name'\n",
    "products[products['product_name'].isna()]"
   ]
  },
  {
   "cell_type": "markdown",
   "id": "518138c3",
   "metadata": {},
   "source": [
    "Hay 1258 filas con valores ausentes."
   ]
  },
  {
   "cell_type": "code",
   "execution_count": 23,
   "id": "20443ebd",
   "metadata": {},
   "outputs": [
    {
     "data": {
      "text/plain": [
       "product_id  product_name  aisle_id  department_id\n",
       "False       True          False     False            1258\n",
       "dtype: int64"
      ]
     },
     "execution_count": 23,
     "metadata": {},
     "output_type": "execute_result"
    }
   ],
   "source": [
    "#Verificar si todos los nombres de productos ausentes están relacionados con el pasillo con ID 100\n",
    "products[products['aisle_id'] == 100].isna().value_counts()"
   ]
  },
  {
   "cell_type": "code",
   "execution_count": 24,
   "id": "34bfa3fe",
   "metadata": {},
   "outputs": [
    {
     "data": {
      "text/plain": [
       "product_id  product_name  aisle_id  department_id\n",
       "False       True          False     False            1258\n",
       "dtype: int64"
      ]
     },
     "execution_count": 24,
     "metadata": {},
     "output_type": "execute_result"
    }
   ],
   "source": [
    "#Verificar si todos los nombres de productos ausentes están relacionados con el departamento con ID 21\n",
    "products[products['department_id'] == 21].isna().value_counts()"
   ]
  },
  {
   "cell_type": "code",
   "execution_count": 25,
   "id": "1cb3a37e",
   "metadata": {},
   "outputs": [
    {
     "data": {
      "text/html": [
       "<div>\n",
       "<style scoped>\n",
       "    .dataframe tbody tr th:only-of-type {\n",
       "        vertical-align: middle;\n",
       "    }\n",
       "\n",
       "    .dataframe tbody tr th {\n",
       "        vertical-align: top;\n",
       "    }\n",
       "\n",
       "    .dataframe thead th {\n",
       "        text-align: right;\n",
       "    }\n",
       "</style>\n",
       "<table border=\"1\" class=\"dataframe\">\n",
       "  <thead>\n",
       "    <tr style=\"text-align: right;\">\n",
       "      <th></th>\n",
       "      <th>product_id</th>\n",
       "      <th>product_name</th>\n",
       "      <th>aisle_id</th>\n",
       "      <th>department_id</th>\n",
       "    </tr>\n",
       "  </thead>\n",
       "  <tbody>\n",
       "    <tr>\n",
       "      <th>37</th>\n",
       "      <td>38</td>\n",
       "      <td>NaN</td>\n",
       "      <td>100</td>\n",
       "      <td>21</td>\n",
       "    </tr>\n",
       "    <tr>\n",
       "      <th>71</th>\n",
       "      <td>72</td>\n",
       "      <td>NaN</td>\n",
       "      <td>100</td>\n",
       "      <td>21</td>\n",
       "    </tr>\n",
       "    <tr>\n",
       "      <th>109</th>\n",
       "      <td>110</td>\n",
       "      <td>NaN</td>\n",
       "      <td>100</td>\n",
       "      <td>21</td>\n",
       "    </tr>\n",
       "    <tr>\n",
       "      <th>296</th>\n",
       "      <td>297</td>\n",
       "      <td>NaN</td>\n",
       "      <td>100</td>\n",
       "      <td>21</td>\n",
       "    </tr>\n",
       "    <tr>\n",
       "      <th>416</th>\n",
       "      <td>417</td>\n",
       "      <td>NaN</td>\n",
       "      <td>100</td>\n",
       "      <td>21</td>\n",
       "    </tr>\n",
       "    <tr>\n",
       "      <th>...</th>\n",
       "      <td>...</td>\n",
       "      <td>...</td>\n",
       "      <td>...</td>\n",
       "      <td>...</td>\n",
       "    </tr>\n",
       "    <tr>\n",
       "      <th>49552</th>\n",
       "      <td>49553</td>\n",
       "      <td>NaN</td>\n",
       "      <td>100</td>\n",
       "      <td>21</td>\n",
       "    </tr>\n",
       "    <tr>\n",
       "      <th>49574</th>\n",
       "      <td>49575</td>\n",
       "      <td>NaN</td>\n",
       "      <td>100</td>\n",
       "      <td>21</td>\n",
       "    </tr>\n",
       "    <tr>\n",
       "      <th>49640</th>\n",
       "      <td>49641</td>\n",
       "      <td>NaN</td>\n",
       "      <td>100</td>\n",
       "      <td>21</td>\n",
       "    </tr>\n",
       "    <tr>\n",
       "      <th>49663</th>\n",
       "      <td>49664</td>\n",
       "      <td>NaN</td>\n",
       "      <td>100</td>\n",
       "      <td>21</td>\n",
       "    </tr>\n",
       "    <tr>\n",
       "      <th>49668</th>\n",
       "      <td>49669</td>\n",
       "      <td>NaN</td>\n",
       "      <td>100</td>\n",
       "      <td>21</td>\n",
       "    </tr>\n",
       "  </tbody>\n",
       "</table>\n",
       "<p>1258 rows × 4 columns</p>\n",
       "</div>"
      ],
      "text/plain": [
       "       product_id product_name  aisle_id  department_id\n",
       "37             38          NaN       100             21\n",
       "71             72          NaN       100             21\n",
       "109           110          NaN       100             21\n",
       "296           297          NaN       100             21\n",
       "416           417          NaN       100             21\n",
       "...           ...          ...       ...            ...\n",
       "49552       49553          NaN       100             21\n",
       "49574       49575          NaN       100             21\n",
       "49640       49641          NaN       100             21\n",
       "49663       49664          NaN       100             21\n",
       "49668       49669          NaN       100             21\n",
       "\n",
       "[1258 rows x 4 columns]"
      ]
     },
     "execution_count": 25,
     "metadata": {},
     "output_type": "execute_result"
    }
   ],
   "source": [
    "#Utilizar las columnas department y aisle para revisar los datos del pasillo con ID 100 y el departamento con ID 21.\n",
    "products[(products['department_id'] == 21) & (products['aisle_id'] == 100)]"
   ]
  },
  {
   "cell_type": "markdown",
   "id": "a7c571b3",
   "metadata": {},
   "source": [
    "Aparentemente todos los valores de 'nombres de producto' relacionados con el pasillo ID `100` y departamento ID `21` están ausentes. Es probable que esto se deba a algún tipo de problema en el pasillo `100` y el departamento `21`."
   ]
  },
  {
   "cell_type": "markdown",
   "id": "54b8d929",
   "metadata": {},
   "source": [
    "No tengo de donde sacar la información faltante y al ser una variables cualitativa reemplazaré los valores ausentes por 'unknown':"
   ]
  },
  {
   "cell_type": "code",
   "execution_count": 26,
   "id": "d9c35c34",
   "metadata": {},
   "outputs": [],
   "source": [
    "# Completar los nombres de productos ausentes con 'Unknown'\n",
    "products['product_name'] = products['product_name'].fillna('Unknown')"
   ]
  },
  {
   "cell_type": "markdown",
   "id": "0a1b7e52",
   "metadata": {},
   "source": [
    "### DataFrame `aisles`"
   ]
  },
  {
   "cell_type": "code",
   "execution_count": 27,
   "id": "dc432d2c",
   "metadata": {},
   "outputs": [
    {
     "data": {
      "text/html": [
       "<div>\n",
       "<style scoped>\n",
       "    .dataframe tbody tr th:only-of-type {\n",
       "        vertical-align: middle;\n",
       "    }\n",
       "\n",
       "    .dataframe tbody tr th {\n",
       "        vertical-align: top;\n",
       "    }\n",
       "\n",
       "    .dataframe thead th {\n",
       "        text-align: right;\n",
       "    }\n",
       "</style>\n",
       "<table border=\"1\" class=\"dataframe\">\n",
       "  <thead>\n",
       "    <tr style=\"text-align: right;\">\n",
       "      <th></th>\n",
       "      <th>aisle_id</th>\n",
       "      <th>aisle</th>\n",
       "    </tr>\n",
       "  </thead>\n",
       "  <tbody>\n",
       "  </tbody>\n",
       "</table>\n",
       "</div>"
      ],
      "text/plain": [
       "Empty DataFrame\n",
       "Columns: [aisle_id, aisle]\n",
       "Index: []"
      ]
     },
     "execution_count": 27,
     "metadata": {},
     "output_type": "execute_result"
    }
   ],
   "source": [
    "#Revisar si hay filas totalmente duplicadas\n",
    "aisles[aisles.duplicated()]"
   ]
  },
  {
   "cell_type": "markdown",
   "id": "40da05f8",
   "metadata": {},
   "source": [
    "No hay filas duplicadas."
   ]
  },
  {
   "cell_type": "markdown",
   "id": "13743f92",
   "metadata": {},
   "source": [
    "### DataFrame `departments`"
   ]
  },
  {
   "cell_type": "code",
   "execution_count": 28,
   "id": "4115eb10",
   "metadata": {},
   "outputs": [
    {
     "data": {
      "text/html": [
       "<div>\n",
       "<style scoped>\n",
       "    .dataframe tbody tr th:only-of-type {\n",
       "        vertical-align: middle;\n",
       "    }\n",
       "\n",
       "    .dataframe tbody tr th {\n",
       "        vertical-align: top;\n",
       "    }\n",
       "\n",
       "    .dataframe thead th {\n",
       "        text-align: right;\n",
       "    }\n",
       "</style>\n",
       "<table border=\"1\" class=\"dataframe\">\n",
       "  <thead>\n",
       "    <tr style=\"text-align: right;\">\n",
       "      <th></th>\n",
       "      <th>department_id</th>\n",
       "      <th>department</th>\n",
       "    </tr>\n",
       "  </thead>\n",
       "  <tbody>\n",
       "  </tbody>\n",
       "</table>\n",
       "</div>"
      ],
      "text/plain": [
       "Empty DataFrame\n",
       "Columns: [department_id, department]\n",
       "Index: []"
      ]
     },
     "execution_count": 28,
     "metadata": {},
     "output_type": "execute_result"
    }
   ],
   "source": [
    "#Revisar si hay filas totalmente duplicadas\n",
    "departments[departments.duplicated()]"
   ]
  },
  {
   "cell_type": "markdown",
   "id": "a7cc9c56",
   "metadata": {},
   "source": [
    "No hay valores duplicados."
   ]
  },
  {
   "cell_type": "markdown",
   "id": "b2a44b3d",
   "metadata": {},
   "source": [
    "### DataFrame `order_products`"
   ]
  },
  {
   "cell_type": "code",
   "execution_count": 29,
   "id": "dd7bc537",
   "metadata": {},
   "outputs": [
    {
     "data": {
      "text/html": [
       "<div>\n",
       "<style scoped>\n",
       "    .dataframe tbody tr th:only-of-type {\n",
       "        vertical-align: middle;\n",
       "    }\n",
       "\n",
       "    .dataframe tbody tr th {\n",
       "        vertical-align: top;\n",
       "    }\n",
       "\n",
       "    .dataframe thead th {\n",
       "        text-align: right;\n",
       "    }\n",
       "</style>\n",
       "<table border=\"1\" class=\"dataframe\">\n",
       "  <thead>\n",
       "    <tr style=\"text-align: right;\">\n",
       "      <th></th>\n",
       "      <th>order_id</th>\n",
       "      <th>product_id</th>\n",
       "      <th>add_to_cart_order</th>\n",
       "      <th>reordered</th>\n",
       "    </tr>\n",
       "  </thead>\n",
       "  <tbody>\n",
       "  </tbody>\n",
       "</table>\n",
       "</div>"
      ],
      "text/plain": [
       "Empty DataFrame\n",
       "Columns: [order_id, product_id, add_to_cart_order, reordered]\n",
       "Index: []"
      ]
     },
     "execution_count": 29,
     "metadata": {},
     "output_type": "execute_result"
    }
   ],
   "source": [
    "#Revisa si hay filas totalmente duplicadas\n",
    "order_products[order_products.duplicated()]"
   ]
  },
  {
   "cell_type": "markdown",
   "id": "b4f9b589",
   "metadata": {},
   "source": [
    "No hay valores duplicados."
   ]
  },
  {
   "cell_type": "code",
   "execution_count": 30,
   "id": "e2d10344",
   "metadata": {},
   "outputs": [
    {
     "data": {
      "text/html": [
       "<div>\n",
       "<style scoped>\n",
       "    .dataframe tbody tr th:only-of-type {\n",
       "        vertical-align: middle;\n",
       "    }\n",
       "\n",
       "    .dataframe tbody tr th {\n",
       "        vertical-align: top;\n",
       "    }\n",
       "\n",
       "    .dataframe thead th {\n",
       "        text-align: right;\n",
       "    }\n",
       "</style>\n",
       "<table border=\"1\" class=\"dataframe\">\n",
       "  <thead>\n",
       "    <tr style=\"text-align: right;\">\n",
       "      <th></th>\n",
       "      <th>order_id</th>\n",
       "      <th>product_id</th>\n",
       "      <th>add_to_cart_order</th>\n",
       "      <th>reordered</th>\n",
       "    </tr>\n",
       "  </thead>\n",
       "  <tbody>\n",
       "    <tr>\n",
       "      <th>737</th>\n",
       "      <td>2449164</td>\n",
       "      <td>5068</td>\n",
       "      <td>NaN</td>\n",
       "      <td>0</td>\n",
       "    </tr>\n",
       "    <tr>\n",
       "      <th>9926</th>\n",
       "      <td>1968313</td>\n",
       "      <td>43867</td>\n",
       "      <td>NaN</td>\n",
       "      <td>0</td>\n",
       "    </tr>\n",
       "    <tr>\n",
       "      <th>14394</th>\n",
       "      <td>2926893</td>\n",
       "      <td>11688</td>\n",
       "      <td>NaN</td>\n",
       "      <td>0</td>\n",
       "    </tr>\n",
       "    <tr>\n",
       "      <th>16418</th>\n",
       "      <td>1717990</td>\n",
       "      <td>4142</td>\n",
       "      <td>NaN</td>\n",
       "      <td>0</td>\n",
       "    </tr>\n",
       "    <tr>\n",
       "      <th>30114</th>\n",
       "      <td>1959075</td>\n",
       "      <td>42828</td>\n",
       "      <td>NaN</td>\n",
       "      <td>1</td>\n",
       "    </tr>\n",
       "    <tr>\n",
       "      <th>...</th>\n",
       "      <td>...</td>\n",
       "      <td>...</td>\n",
       "      <td>...</td>\n",
       "      <td>...</td>\n",
       "    </tr>\n",
       "    <tr>\n",
       "      <th>4505662</th>\n",
       "      <td>1800005</td>\n",
       "      <td>7411</td>\n",
       "      <td>NaN</td>\n",
       "      <td>0</td>\n",
       "    </tr>\n",
       "    <tr>\n",
       "      <th>4511400</th>\n",
       "      <td>1633337</td>\n",
       "      <td>260</td>\n",
       "      <td>NaN</td>\n",
       "      <td>0</td>\n",
       "    </tr>\n",
       "    <tr>\n",
       "      <th>4517562</th>\n",
       "      <td>404157</td>\n",
       "      <td>9517</td>\n",
       "      <td>NaN</td>\n",
       "      <td>0</td>\n",
       "    </tr>\n",
       "    <tr>\n",
       "      <th>4534112</th>\n",
       "      <td>1673227</td>\n",
       "      <td>17835</td>\n",
       "      <td>NaN</td>\n",
       "      <td>0</td>\n",
       "    </tr>\n",
       "    <tr>\n",
       "      <th>4535739</th>\n",
       "      <td>1832957</td>\n",
       "      <td>17949</td>\n",
       "      <td>NaN</td>\n",
       "      <td>1</td>\n",
       "    </tr>\n",
       "  </tbody>\n",
       "</table>\n",
       "<p>836 rows × 4 columns</p>\n",
       "</div>"
      ],
      "text/plain": [
       "         order_id  product_id  add_to_cart_order  reordered\n",
       "737       2449164        5068                NaN          0\n",
       "9926      1968313       43867                NaN          0\n",
       "14394     2926893       11688                NaN          0\n",
       "16418     1717990        4142                NaN          0\n",
       "30114     1959075       42828                NaN          1\n",
       "...           ...         ...                ...        ...\n",
       "4505662   1800005        7411                NaN          0\n",
       "4511400   1633337         260                NaN          0\n",
       "4517562    404157        9517                NaN          0\n",
       "4534112   1673227       17835                NaN          0\n",
       "4535739   1832957       17949                NaN          1\n",
       "\n",
       "[836 rows x 4 columns]"
      ]
     },
     "execution_count": 30,
     "metadata": {},
     "output_type": "execute_result"
    }
   ],
   "source": [
    "#Encuentrar los valores ausentes de la columna 'add_to_cart_order'\n",
    "order_products[order_products['add_to_cart_order'].isna()]"
   ]
  },
  {
   "cell_type": "code",
   "execution_count": 31,
   "id": "6fd239ad",
   "metadata": {},
   "outputs": [
    {
     "name": "stdout",
     "output_type": "stream",
     "text": [
      "Valores mínimos: 1.0\n",
      "Valores máximos: 64.0\n"
     ]
    }
   ],
   "source": [
    "#Verificar los valores mínimos y máximos en esta columna\n",
    "print('Valores mínimos:', order_products['add_to_cart_order'].min())\n",
    "print('Valores máximos:', order_products['add_to_cart_order'].max())"
   ]
  },
  {
   "cell_type": "markdown",
   "id": "fe82fcf0",
   "metadata": {},
   "source": [
    "Lo mínimo que las personas piden es 1 artículo y lo máximo con 64. Tal vez el maximo de 'add_to_cart_order' se detiene en 64 porque es el máximo de artículos que se permiten por pedido. "
   ]
  },
  {
   "cell_type": "code",
   "execution_count": 32,
   "id": "9a00ecd0",
   "metadata": {},
   "outputs": [],
   "source": [
    "#Remplazar los valores ausentes en la columna 'add_to_cart' con 999 y convertir la columna al tipo entero.\n",
    "order_products['add_to_cart_order'] = order_products['add_to_cart_order'].fillna(999)\n",
    "order_products['add_to_cart_order'] = order_products['add_to_cart_order'].astype('int') "
   ]
  },
  {
   "cell_type": "markdown",
   "id": "f6102e4b",
   "metadata": {},
   "source": [
    "## Análisis de los datos"
   ]
  },
  {
   "cell_type": "code",
   "execution_count": 33,
   "id": "f4d6c671",
   "metadata": {},
   "outputs": [
    {
     "data": {
      "image/png": "[encoded data removed]",
      "text/plain": [
       "<Figure size 640x480 with 1 Axes>"
      ]
     },
     "metadata": {},
     "output_type": "display_data"
    }
   ],
   "source": [
    "#Verificar para cada hora del día, cuántas personas hacen órdenes\n",
    "hora = orders.groupby('order_hour_of_day')['order_number'].sum()\n",
    "\n",
    "hora.plot(kind='bar',\n",
    "          xlabel='Hora',\n",
    "          ylabel='Número de ordenes',\n",
    "          title='Número de personas que hacen pedidos dependiendo de la hora del día')\n",
    "\n",
    "plt.show()"
   ]
  },
  {
   "cell_type": "markdown",
   "id": "bae398c4",
   "metadata": {},
   "source": [
    "Las horas de la madrugada es el tiempo con menos actividad. Entre las 9am y las 4pm son las horas que las personas más pedidos hacen."
   ]
  },
  {
   "cell_type": "code",
   "execution_count": 34,
   "id": "02a05201",
   "metadata": {},
   "outputs": [
    {
     "data": {
      "image/png": "[encoded data removed]",
      "text/plain": [
       "<Figure size 640x480 with 1 Axes>"
      ]
     },
     "metadata": {},
     "output_type": "display_data"
    }
   ],
   "source": [
    "#Verificar, qué día de la semana compran víveres las personas\n",
    "dia = orders.groupby('order_dow')['order_number'].sum()\n",
    "\n",
    "dia.plot(kind='bar', \n",
    "         xlabel='Día', \n",
    "         ylabel='Número de ordenes', \n",
    "         title='Día de la semana en que las personas compran víveres')  \n",
    "plt.show()"
   ]
  },
  {
   "cell_type": "markdown",
   "id": "9be22ddf",
   "metadata": {},
   "source": [
    "Todos los días compran víveres las personas, sin embargo domingo y lunes son los días que más actividad presentan."
   ]
  },
  {
   "cell_type": "code",
   "execution_count": 35,
   "id": "45c53013",
   "metadata": {},
   "outputs": [
    {
     "data": {
      "image/png": "[encoded data removed]",
      "text/plain": [
       "<Figure size 640x480 with 1 Axes>"
      ]
     },
     "metadata": {},
     "output_type": "display_data"
    }
   ],
   "source": [
    "#Verificar, cuánto tiempo esperan las personas hasta hacer otro pedido\n",
    "tiempo_espera = orders.groupby('days_since_prior_order')['user_id'].sum()\n",
    "\n",
    "tiempo_espera.plot(kind='bar', \n",
    "         xlabel='Tiempo espera(días)', \n",
    "         ylabel='Clientes', \n",
    "         title='Tiempo esperan las personas hasta hacer otro pedido')\n",
    "plt.show()"
   ]
  },
  {
   "cell_type": "markdown",
   "id": "bb12653f",
   "metadata": {},
   "source": [
    "La mayoría de personas esperan 30 y 7 días antes de hacer un nuevo pedido."
   ]
  },
  {
   "cell_type": "code",
   "execution_count": 36,
   "id": "705e4ff3",
   "metadata": {},
   "outputs": [
    {
     "data": {
      "image/png": "[encoded data removed]",
      "text/plain": [
       "<Figure size 640x480 with 1 Axes>"
      ]
     },
     "metadata": {},
     "output_type": "display_data"
    }
   ],
   "source": [
    "#Verificar si existe alguna diferencia entre las distribuciones 'order_hour_of_day' de los miércoles y los sábados\n",
    "wed = orders['order_dow'] == 3\n",
    "hod_counts_wed = orders[wed]['order_hour_of_day'].value_counts().sort_index()\n",
    "\n",
    "sat = orders['order_dow'] == 6\n",
    "hod_counts_sat = orders[sat]['order_hour_of_day'].value_counts().sort_index()\n",
    "\n",
    "hod_counts = pd.concat([hod_counts_wed, hod_counts_sat], axis=1)\n",
    "hod_counts.columns = ['Miercoles', 'Sabado']\n",
    "\n",
    "hod_counts.plot(kind='bar',\n",
    "                title='Diferencia de ordenes entre miércoles y sábados',\n",
    "                xlabel='Hora del día',\n",
    "                ylabel='Número de ordenes')             \n",
    "plt.show()"
   ]
  },
  {
   "cell_type": "markdown",
   "id": "c0bd548c",
   "metadata": {},
   "source": [
    "Ambos días tienen un comportamiento muy similar a lo largo del día. Los sábados de 12-2pm se puede observar que hay un poco más de actividad que los miércoles."
   ]
  },
  {
   "cell_type": "code",
   "execution_count": 37,
   "id": "4b8dc5e9",
   "metadata": {},
   "outputs": [
    {
     "data": {
      "image/png": "[encoded data removed]",
      "text/plain": [
       "<Figure size 640x480 with 1 Axes>"
      ]
     },
     "metadata": {},
     "output_type": "display_data"
    }
   ],
   "source": [
    "#Verificar la distribución para el número de pedidos por cliente\n",
    "pedidos = orders.groupby('user_id')['order_number'].count()\n",
    "\n",
    "pedidos.plot(kind='hist', \n",
    "         xlabel='Número de pedidos', \n",
    "         ylabel='Número de clientes', \n",
    "         title='Pedidos por cliente')  \n",
    "plt.show()"
   ]
  },
  {
   "cell_type": "markdown",
   "id": "1053a43d",
   "metadata": {},
   "source": [
    "La mayoría de clientes hace menos de 10 pedidos."
   ]
  },
  {
   "cell_type": "code",
   "execution_count": 38,
   "id": "287d1cf3",
   "metadata": {},
   "outputs": [
    {
     "data": {
      "image/png": "[encoded data removed]",
      "text/plain": [
       "<Figure size 640x480 with 1 Axes>"
      ]
     },
     "metadata": {},
     "output_type": "display_data"
    }
   ],
   "source": [
    "#Verificar cuáles son los 20 productos más populares\n",
    "df = products.merge(order_products, on='product_id')\n",
    "\n",
    "populares = df.groupby(['product_id', 'product_name'])['order_id'].count().sort_values(ascending=False)\n",
    "pop = populares.head(20)\n",
    "\n",
    "pop.plot(kind='bar', \n",
    "         xlabel='Nombre del producto producto', \n",
    "         ylabel='Pedidos', \n",
    "         title='20 pedidos más populares')  \n",
    "plt.show()"
   ]
  },
  {
   "cell_type": "markdown",
   "id": "2471025f",
   "metadata": {},
   "source": [
    "El producto que más se pide, por mucho, es bananas, seguido de las fresas, espinaca bebé y aguacate."
   ]
  },
  {
   "cell_type": "code",
   "execution_count": 39,
   "id": "5d6119cc",
   "metadata": {},
   "outputs": [
    {
     "data": {
      "image/png": "[encoded data removed]",
      "text/plain": [
       "<Figure size 640x480 with 1 Axes>"
      ]
     },
     "metadata": {},
     "output_type": "display_data"
    }
   ],
   "source": [
    "#Verificar cuántos artículos compran normalmente las personas en un pedido\n",
    "pedido = order_products.groupby('order_id')['product_id'].count()\n",
    "ped = pedido.value_counts().sort_index()\n",
    "\n",
    "ped.plot(kind='hist', \n",
    "         title='Cantidad de artículos compran normalmente las personas en un pedido')  \n",
    "         \n",
    "plt.show()"
   ]
  },
  {
   "cell_type": "code",
   "execution_count": 40,
   "id": "ce69f600",
   "metadata": {},
   "outputs": [
    {
     "data": {
      "image/png": "[encoded data removed]",
      "text/plain": [
       "<Figure size 640x480 with 1 Axes>"
      ]
     },
     "metadata": {},
     "output_type": "display_data"
    }
   ],
   "source": [
    "#Verificar cuáles son los 20 principales artículos que vuelven a pedirse con mayor frecuencia \n",
    "df1 = order_products.merge(products, on='product_id')\n",
    "\n",
    "reorder = df1.groupby(['product_name', 'product_id'])['reordered'].sum().sort_values(ascending=False)\n",
    "re = reorder.head(20)\n",
    "\n",
    "re.plot(kind='bar', \n",
    "         xlabel='Producto', \n",
    "         ylabel='Pedidos', \n",
    "         title='20 principales artículos que vuelven a pedirse con mayor frecuencia')    \n",
    "plt.show()"
   ]
  },
  {
   "cell_type": "markdown",
   "id": "a8906b5e",
   "metadata": {},
   "source": [
    "Los productos que más se vuelve a ordenar, coinciden con los que más populares."
   ]
  },
  {
   "cell_type": "code",
   "execution_count": 41,
   "id": "a2a1952b",
   "metadata": {},
   "outputs": [
    {
     "data": {
      "text/html": [
       "<div>\n",
       "<style scoped>\n",
       "    .dataframe tbody tr th:only-of-type {\n",
       "        vertical-align: middle;\n",
       "    }\n",
       "\n",
       "    .dataframe tbody tr th {\n",
       "        vertical-align: top;\n",
       "    }\n",
       "\n",
       "    .dataframe thead th {\n",
       "        text-align: right;\n",
       "    }\n",
       "</style>\n",
       "<table border=\"1\" class=\"dataframe\">\n",
       "  <thead>\n",
       "    <tr style=\"text-align: right;\">\n",
       "      <th></th>\n",
       "      <th>product_id</th>\n",
       "      <th>product_name</th>\n",
       "      <th>reordered</th>\n",
       "    </tr>\n",
       "  </thead>\n",
       "  <tbody>\n",
       "    <tr>\n",
       "      <th>0</th>\n",
       "      <td>14721</td>\n",
       "      <td>Bone Strength Take Care</td>\n",
       "      <td>1.0</td>\n",
       "    </tr>\n",
       "    <tr>\n",
       "      <th>1</th>\n",
       "      <td>20949</td>\n",
       "      <td>Vanilla Sandwich Cookies</td>\n",
       "      <td>1.0</td>\n",
       "    </tr>\n",
       "    <tr>\n",
       "      <th>2</th>\n",
       "      <td>6723</td>\n",
       "      <td>Palmiers- Petite</td>\n",
       "      <td>1.0</td>\n",
       "    </tr>\n",
       "    <tr>\n",
       "      <th>3</th>\n",
       "      <td>6732</td>\n",
       "      <td>Naturally Sparkling Mineral Water</td>\n",
       "      <td>1.0</td>\n",
       "    </tr>\n",
       "    <tr>\n",
       "      <th>4</th>\n",
       "      <td>45088</td>\n",
       "      <td>California Dill Pollen &amp; Garlic Goat Cheese &amp; ...</td>\n",
       "      <td>1.0</td>\n",
       "    </tr>\n",
       "    <tr>\n",
       "      <th>...</th>\n",
       "      <td>...</td>\n",
       "      <td>...</td>\n",
       "      <td>...</td>\n",
       "    </tr>\n",
       "    <tr>\n",
       "      <th>45568</th>\n",
       "      <td>10485</td>\n",
       "      <td>Caramel Apple Pop</td>\n",
       "      <td>0.0</td>\n",
       "    </tr>\n",
       "    <tr>\n",
       "      <th>45569</th>\n",
       "      <td>37690</td>\n",
       "      <td>Calypso Fresh 2X Concentrated ScentSations 166...</td>\n",
       "      <td>0.0</td>\n",
       "    </tr>\n",
       "    <tr>\n",
       "      <th>45570</th>\n",
       "      <td>10484</td>\n",
       "      <td>Avocado And Greens</td>\n",
       "      <td>0.0</td>\n",
       "    </tr>\n",
       "    <tr>\n",
       "      <th>45571</th>\n",
       "      <td>10474</td>\n",
       "      <td>NuStevia White Stevia Powder</td>\n",
       "      <td>0.0</td>\n",
       "    </tr>\n",
       "    <tr>\n",
       "      <th>45572</th>\n",
       "      <td>42984</td>\n",
       "      <td>Salsa For All Seasons Half Guacamole Half Roas...</td>\n",
       "      <td>0.0</td>\n",
       "    </tr>\n",
       "  </tbody>\n",
       "</table>\n",
       "<p>45573 rows × 3 columns</p>\n",
       "</div>"
      ],
      "text/plain": [
       "       product_id                                       product_name  \\\n",
       "0           14721                            Bone Strength Take Care   \n",
       "1           20949                           Vanilla Sandwich Cookies   \n",
       "2            6723                                   Palmiers- Petite   \n",
       "3            6732                  Naturally Sparkling Mineral Water   \n",
       "4           45088  California Dill Pollen & Garlic Goat Cheese & ...   \n",
       "...           ...                                                ...   \n",
       "45568       10485                                  Caramel Apple Pop   \n",
       "45569       37690  Calypso Fresh 2X Concentrated ScentSations 166...   \n",
       "45570       10484                                 Avocado And Greens   \n",
       "45571       10474                       NuStevia White Stevia Powder   \n",
       "45572       42984  Salsa For All Seasons Half Guacamole Half Roas...   \n",
       "\n",
       "       reordered  \n",
       "0            1.0  \n",
       "1            1.0  \n",
       "2            1.0  \n",
       "3            1.0  \n",
       "4            1.0  \n",
       "...          ...  \n",
       "45568        0.0  \n",
       "45569        0.0  \n",
       "45570        0.0  \n",
       "45571        0.0  \n",
       "45572        0.0  \n",
       "\n",
       "[45573 rows x 3 columns]"
      ]
     },
     "execution_count": 41,
     "metadata": {},
     "output_type": "execute_result"
    }
   ],
   "source": [
    "#Verificar para cada producto, cuál es la proporción de las veces que se pide y que se vuelve a pedir\n",
    "df_merge = order_products.merge(products)\n",
    "\n",
    "reorder_rate = df_merge.groupby(['product_id', 'product_name'])['reordered'].mean()\n",
    "\n",
    "reorder_rate_as_df = reorder_rate.sort_values(ascending=False).reset_index()\n",
    "reorder_rate_as_df.sort_values(by='product_id')\n",
    "reorder_rate_as_df"
   ]
  },
  {
   "cell_type": "markdown",
   "id": "36f98ce5",
   "metadata": {},
   "source": [
    "Se puede observar que hay productos que su porcentaje es 0, lo que nos indica que no se vuelve a pedir. Sería bueno analizar si vale la pena seguir ofreciendo estos productos."
   ]
  },
  {
   "cell_type": "code",
   "execution_count": 42,
   "id": "67512885",
   "metadata": {},
   "outputs": [
    {
     "data": {
      "text/plain": [
       "product_name\n",
       "Banana                      66050\n",
       "Bag of Organic Bananas      53297\n",
       "Organic Strawberries        37039\n",
       "Organic Baby Spinach        33971\n",
       "Organic Hass Avocado        29773\n",
       "Organic Avocado             24689\n",
       "Large Lemon                 21495\n",
       "Strawberries                20018\n",
       "Limes                       19690\n",
       "Organic Whole Milk          19600\n",
       "Organic Raspberries         19197\n",
       "Organic Yellow Onion        15898\n",
       "Organic Garlic              15292\n",
       "Organic Zucchini            14584\n",
       "Organic Blueberries         13879\n",
       "Cucumber Kirby              13675\n",
       "Organic Fuji Apple          12544\n",
       "Organic Lemon               12232\n",
       "Apple Honeycrisp Organic    11993\n",
       "Organic Grape Tomatoes      11781\n",
       "Name: add_to_cart_order, dtype: int64"
      ]
     },
     "execution_count": 42,
     "metadata": {},
     "output_type": "execute_result"
    }
   ],
   "source": [
    "#Verificar cuáles son los 20 principales artículos que las personas ponen primero en sus carritos\n",
    "proporcion_productos = df.groupby('product_name')['add_to_cart_order'].count().sort_values(ascending=False)\n",
    "proporcion_productos.head(20)"
   ]
  },
  {
   "cell_type": "markdown",
   "id": "c0fd44a0",
   "metadata": {},
   "source": [
    "Los principales artículos que los clientes suelen poner primero en su carrito, son los mismos que están entre los más pedidos y los que vuelven a pedir."
   ]
  },
  {
   "cell_type": "markdown",
   "id": "fa56b116",
   "metadata": {},
   "source": [
    "# Conclusión\n",
    "Para empezar se leyeron los archivos de datos con los parametros necesario para tener una buena lectura de la información. A partir de esto se obtuvo información general de los datos para tener una idea de lo que cada \n",
    "archivo contenía. Se importó la librería pandas para poder hacer todas las tareas basicas y la librería matplotlib para crear gráficos.\n",
    "\n",
    "Se identificaron y completaron los valores ausentes, al igual que se identificaron y eliminaron los valores duplicados. En esta primera parte se encontró que Los valores ausentes de ‘orders’ se debe a que es la primera orden de los clientes, mientras que los valores ausentes de ‘order_producto’ se debe a algún problea en el pasillo `100` y el departamento `21`.\n",
    "\n",
    "- Las horas de la madrugada es el tiempo con menos actividad. Entre las 9am y las 4pm son las horas que las personas más pedidos hacen.\n",
    "- Todos los días compran víveres las personas, sin embargo domingo y lunes son los días que más actividad presentan.\n",
    "- La mayoría de personas esperan 30 y 7 días antes de hacer un nuevo pedido.\n",
    "- Los sábados de 12-2pm se puede observar que hay un poco más de actividad que los miércoles. Sin embargo, ambos tienen un comportamiento muy similar a lo largo del día.\n",
    "- Los productos que más se vendes son las bananas, seguido de las fresas, espinaca bebé y aguacate.\n",
    "- En promedio las personas compran menos de 10 artículos por pedido.\n",
    "- Los productos que más se vuelve a ordenar, coinciden con los que más populares.\n",
    "- Hay productos que se porcentaje de reorden (que se vuelven a pedir) es 0, lo que nos indica que no se vuelve a pedir. Sería bueno analizar si vale la pena seguir ofreciendo estos productos.\n",
    "- Los principales artículos que los clientes suelen poner primero en su carrito, son los mismos que están entre los más pedidos y los que más se vuelven a pedir."
   ]
  }
 ],
 "metadata": {
  "ExecuteTimeLog": [
   {
    "duration": 2335,
    "start_time": "2024-09-19T20:51:00.215Z"
   },
   {
    "duration": 6,
    "start_time": "2024-09-19T20:51:53.300Z"
   },
   {
    "duration": 2563,
    "start_time": "2024-09-19T20:52:01.858Z"
   },
   {
    "duration": 10,
    "start_time": "2024-09-19T20:53:07.122Z"
   },
   {
    "duration": 6,
    "start_time": "2024-09-19T20:53:16.711Z"
   },
   {
    "duration": 6,
    "start_time": "2024-09-19T20:53:35.317Z"
   },
   {
    "duration": 5,
    "start_time": "2024-09-19T20:53:39.203Z"
   },
   {
    "duration": 5,
    "start_time": "2024-09-19T20:53:41.042Z"
   },
   {
    "duration": 6,
    "start_time": "2024-09-19T20:53:51.963Z"
   },
   {
    "duration": 5,
    "start_time": "2024-09-19T20:54:07.894Z"
   },
   {
    "duration": 6,
    "start_time": "2024-09-19T20:54:22.342Z"
   },
   {
    "duration": 904,
    "start_time": "2024-09-19T20:55:44.932Z"
   },
   {
    "duration": 10,
    "start_time": "2024-09-19T20:55:49.794Z"
   },
   {
    "duration": 7,
    "start_time": "2024-09-19T20:56:19.181Z"
   },
   {
    "duration": 867,
    "start_time": "2024-09-19T20:56:29.313Z"
   },
   {
    "duration": 12,
    "start_time": "2024-09-19T20:58:30.891Z"
   },
   {
    "duration": 10,
    "start_time": "2024-09-19T21:00:20.702Z"
   },
   {
    "duration": 11,
    "start_time": "2024-09-19T21:00:56.651Z"
   },
   {
    "duration": 11,
    "start_time": "2024-09-19T21:02:08.670Z"
   },
   {
    "duration": 9,
    "start_time": "2024-09-19T21:02:42.411Z"
   },
   {
    "duration": 3,
    "start_time": "2024-09-19T21:02:53.298Z"
   },
   {
    "duration": 10,
    "start_time": "2024-09-19T21:03:06.796Z"
   },
   {
    "duration": 4,
    "start_time": "2024-09-19T21:03:15.569Z"
   },
   {
    "duration": 8,
    "start_time": "2024-09-19T21:03:25.339Z"
   },
   {
    "duration": 23,
    "start_time": "2024-09-19T21:03:41.631Z"
   },
   {
    "duration": 2,
    "start_time": "2024-09-19T21:09:55.655Z"
   },
   {
    "duration": 103,
    "start_time": "2024-09-19T21:17:02.754Z"
   },
   {
    "duration": 111,
    "start_time": "2024-09-19T21:17:29.929Z"
   },
   {
    "duration": 109,
    "start_time": "2024-09-19T21:18:23.282Z"
   },
   {
    "duration": 94,
    "start_time": "2024-09-19T21:18:42.158Z"
   },
   {
    "duration": 15,
    "start_time": "2024-09-19T21:20:25.291Z"
   },
   {
    "duration": 125,
    "start_time": "2024-09-19T21:20:56.411Z"
   },
   {
    "duration": 3,
    "start_time": "2024-09-19T21:24:05.307Z"
   },
   {
    "duration": 2,
    "start_time": "2024-09-19T21:25:17.331Z"
   },
   {
    "duration": 23,
    "start_time": "2024-09-19T21:26:04.116Z"
   },
   {
    "duration": 14,
    "start_time": "2024-09-19T21:26:39.266Z"
   },
   {
    "duration": 18,
    "start_time": "2024-09-19T21:26:50.607Z"
   },
   {
    "duration": 8,
    "start_time": "2024-09-19T21:27:03.367Z"
   },
   {
    "duration": 11,
    "start_time": "2024-09-19T21:28:14.980Z"
   },
   {
    "duration": 442,
    "start_time": "2024-09-19T21:28:23.309Z"
   },
   {
    "duration": 2463,
    "start_time": "2024-09-19T21:28:23.753Z"
   },
   {
    "duration": 10,
    "start_time": "2024-09-19T21:28:26.218Z"
   },
   {
    "duration": 5,
    "start_time": "2024-09-19T21:28:26.231Z"
   },
   {
    "duration": 6,
    "start_time": "2024-09-19T21:28:26.239Z"
   },
   {
    "duration": 6,
    "start_time": "2024-09-19T21:28:26.247Z"
   },
   {
    "duration": 7,
    "start_time": "2024-09-19T21:28:26.255Z"
   },
   {
    "duration": 907,
    "start_time": "2024-09-19T21:28:26.263Z"
   },
   {
    "duration": 20,
    "start_time": "2024-09-19T21:28:27.174Z"
   },
   {
    "duration": 13,
    "start_time": "2024-09-19T21:28:27.197Z"
   },
   {
    "duration": 9,
    "start_time": "2024-09-19T21:28:27.213Z"
   },
   {
    "duration": 9,
    "start_time": "2024-09-19T21:28:27.226Z"
   },
   {
    "duration": 23,
    "start_time": "2024-09-19T21:28:27.237Z"
   },
   {
    "duration": 120,
    "start_time": "2024-09-19T21:28:27.262Z"
   },
   {
    "duration": 7,
    "start_time": "2024-09-19T21:28:27.384Z"
   },
   {
    "duration": 106,
    "start_time": "2024-09-19T21:28:27.393Z"
   },
   {
    "duration": 25,
    "start_time": "2024-09-19T21:28:27.501Z"
   },
   {
    "duration": 5,
    "start_time": "2024-09-19T21:28:27.528Z"
   },
   {
    "duration": 9,
    "start_time": "2024-09-19T21:28:27.535Z"
   },
   {
    "duration": 9,
    "start_time": "2024-09-19T21:28:40.113Z"
   },
   {
    "duration": 7,
    "start_time": "2024-09-19T21:31:01.966Z"
   },
   {
    "duration": 2,
    "start_time": "2024-09-19T21:31:33.229Z"
   },
   {
    "duration": 6,
    "start_time": "2024-09-19T21:35:34.200Z"
   },
   {
    "duration": 1168,
    "start_time": "2024-09-19T21:35:40.466Z"
   },
   {
    "duration": 6,
    "start_time": "2024-09-19T21:35:59.771Z"
   },
   {
    "duration": 12,
    "start_time": "2024-09-19T21:38:56.866Z"
   },
   {
    "duration": 9,
    "start_time": "2024-09-19T21:40:54.595Z"
   },
   {
    "duration": 9,
    "start_time": "2024-09-19T21:41:44.700Z"
   },
   {
    "duration": 12,
    "start_time": "2024-09-19T21:42:49.729Z"
   },
   {
    "duration": 9,
    "start_time": "2024-09-19T21:46:15.441Z"
   },
   {
    "duration": 10,
    "start_time": "2024-09-19T21:47:15.633Z"
   },
   {
    "duration": 17,
    "start_time": "2024-09-19T21:49:01.975Z"
   },
   {
    "duration": 4,
    "start_time": "2024-09-19T21:50:39.825Z"
   },
   {
    "duration": 595,
    "start_time": "2024-09-19T21:50:53.473Z"
   },
   {
    "duration": 12,
    "start_time": "2024-09-19T21:51:09.821Z"
   },
   {
    "duration": 12,
    "start_time": "2024-09-19T21:52:12.222Z"
   },
   {
    "duration": 43,
    "start_time": "2024-09-19T21:52:35.757Z"
   },
   {
    "duration": 43,
    "start_time": "2024-09-19T21:53:17.901Z"
   },
   {
    "duration": 29,
    "start_time": "2024-09-19T21:54:03.779Z"
   },
   {
    "duration": 14,
    "start_time": "2024-09-19T21:54:10.217Z"
   },
   {
    "duration": 6,
    "start_time": "2024-09-19T21:54:15.996Z"
   },
   {
    "duration": 6,
    "start_time": "2024-09-19T21:54:49.308Z"
   },
   {
    "duration": 47,
    "start_time": "2024-09-19T21:57:51.870Z"
   },
   {
    "duration": 29,
    "start_time": "2024-09-19T21:59:33.242Z"
   },
   {
    "duration": 446,
    "start_time": "2024-09-19T22:09:21.116Z"
   },
   {
    "duration": 2315,
    "start_time": "2024-09-19T22:09:21.564Z"
   },
   {
    "duration": 9,
    "start_time": "2024-09-19T22:09:23.881Z"
   },
   {
    "duration": 5,
    "start_time": "2024-09-19T22:09:23.891Z"
   },
   {
    "duration": 5,
    "start_time": "2024-09-19T22:09:23.910Z"
   },
   {
    "duration": 5,
    "start_time": "2024-09-19T22:09:23.916Z"
   },
   {
    "duration": 5,
    "start_time": "2024-09-19T22:09:23.923Z"
   },
   {
    "duration": 875,
    "start_time": "2024-09-19T22:09:23.929Z"
   },
   {
    "duration": 13,
    "start_time": "2024-09-19T22:09:24.808Z"
   },
   {
    "duration": 11,
    "start_time": "2024-09-19T22:09:24.824Z"
   },
   {
    "duration": 11,
    "start_time": "2024-09-19T22:09:24.837Z"
   },
   {
    "duration": 8,
    "start_time": "2024-09-19T22:09:24.851Z"
   },
   {
    "duration": 22,
    "start_time": "2024-09-19T22:09:24.861Z"
   },
   {
    "duration": 109,
    "start_time": "2024-09-19T22:09:24.886Z"
   },
   {
    "duration": 10,
    "start_time": "2024-09-19T22:09:25.009Z"
   },
   {
    "duration": 103,
    "start_time": "2024-09-19T22:09:25.021Z"
   },
   {
    "duration": 14,
    "start_time": "2024-09-19T22:09:25.126Z"
   },
   {
    "duration": 13,
    "start_time": "2024-09-19T22:09:25.143Z"
   },
   {
    "duration": 19,
    "start_time": "2024-09-19T22:09:25.158Z"
   },
   {
    "duration": 31,
    "start_time": "2024-09-19T22:09:25.179Z"
   },
   {
    "duration": 10,
    "start_time": "2024-09-19T22:09:25.212Z"
   },
   {
    "duration": 9,
    "start_time": "2024-09-19T22:09:25.224Z"
   },
   {
    "duration": 11,
    "start_time": "2024-09-19T22:09:25.234Z"
   },
   {
    "duration": 6,
    "start_time": "2024-09-19T22:09:25.247Z"
   },
   {
    "duration": 7,
    "start_time": "2024-09-19T22:09:25.254Z"
   },
   {
    "duration": 844,
    "start_time": "2024-09-19T22:09:25.264Z"
   },
   {
    "duration": 13,
    "start_time": "2024-09-19T22:09:26.111Z"
   },
   {
    "duration": 47,
    "start_time": "2024-09-19T22:09:26.127Z"
   },
   {
    "duration": 42,
    "start_time": "2024-09-19T22:09:26.175Z"
   },
   {
    "duration": 13,
    "start_time": "2024-09-19T22:14:08.480Z"
   },
   {
    "duration": 7,
    "start_time": "2024-09-19T22:14:15.024Z"
   },
   {
    "duration": 4,
    "start_time": "2024-09-19T22:14:42.770Z"
   },
   {
    "duration": 35,
    "start_time": "2024-09-19T22:18:34.156Z"
   },
   {
    "duration": 31,
    "start_time": "2024-09-19T22:18:56.012Z"
   },
   {
    "duration": 190,
    "start_time": "2024-09-19T22:20:14.857Z"
   },
   {
    "duration": 118,
    "start_time": "2024-09-19T22:23:30.952Z"
   },
   {
    "duration": 212,
    "start_time": "2024-09-19T22:24:36.072Z"
   },
   {
    "duration": 219,
    "start_time": "2024-09-19T22:26:00.672Z"
   },
   {
    "duration": 142,
    "start_time": "2024-09-19T22:27:21.426Z"
   },
   {
    "duration": 1188,
    "start_time": "2024-09-19T22:30:08.640Z"
   },
   {
    "duration": 377,
    "start_time": "2024-09-19T22:34:22.866Z"
   },
   {
    "duration": 1363,
    "start_time": "2024-09-19T22:36:38.633Z"
   },
   {
    "duration": 1181,
    "start_time": "2024-09-19T22:38:08.330Z"
   },
   {
    "duration": 475,
    "start_time": "2024-09-19T22:41:08.114Z"
   },
   {
    "duration": 2618,
    "start_time": "2024-09-19T22:41:08.591Z"
   },
   {
    "duration": 9,
    "start_time": "2024-09-19T22:41:11.211Z"
   },
   {
    "duration": 5,
    "start_time": "2024-09-19T22:41:11.222Z"
   },
   {
    "duration": 4,
    "start_time": "2024-09-19T22:41:11.231Z"
   },
   {
    "duration": 5,
    "start_time": "2024-09-19T22:41:11.237Z"
   },
   {
    "duration": 6,
    "start_time": "2024-09-19T22:41:11.243Z"
   },
   {
    "duration": 876,
    "start_time": "2024-09-19T22:41:11.250Z"
   },
   {
    "duration": 10,
    "start_time": "2024-09-19T22:41:12.128Z"
   },
   {
    "duration": 9,
    "start_time": "2024-09-19T22:41:12.140Z"
   },
   {
    "duration": 9,
    "start_time": "2024-09-19T22:41:12.150Z"
   },
   {
    "duration": 8,
    "start_time": "2024-09-19T22:41:12.161Z"
   },
   {
    "duration": 52,
    "start_time": "2024-09-19T22:41:12.171Z"
   },
   {
    "duration": 102,
    "start_time": "2024-09-19T22:41:12.227Z"
   },
   {
    "duration": 9,
    "start_time": "2024-09-19T22:41:12.331Z"
   },
   {
    "duration": 108,
    "start_time": "2024-09-19T22:41:12.341Z"
   },
   {
    "duration": 12,
    "start_time": "2024-09-19T22:41:12.450Z"
   },
   {
    "duration": 11,
    "start_time": "2024-09-19T22:41:12.464Z"
   },
   {
    "duration": 47,
    "start_time": "2024-09-19T22:41:12.477Z"
   },
   {
    "duration": 22,
    "start_time": "2024-09-19T22:41:12.526Z"
   },
   {
    "duration": 14,
    "start_time": "2024-09-19T22:41:12.550Z"
   },
   {
    "duration": 11,
    "start_time": "2024-09-19T22:41:12.566Z"
   },
   {
    "duration": 34,
    "start_time": "2024-09-19T22:41:12.579Z"
   },
   {
    "duration": 8,
    "start_time": "2024-09-19T22:41:12.615Z"
   },
   {
    "duration": 10,
    "start_time": "2024-09-19T22:41:12.626Z"
   },
   {
    "duration": 5,
    "start_time": "2024-09-19T22:41:12.638Z"
   },
   {
    "duration": 6,
    "start_time": "2024-09-19T22:41:12.645Z"
   },
   {
    "duration": 5,
    "start_time": "2024-09-19T22:41:12.653Z"
   },
   {
    "duration": 822,
    "start_time": "2024-09-19T22:41:12.659Z"
   },
   {
    "duration": 11,
    "start_time": "2024-09-19T22:41:13.483Z"
   },
   {
    "duration": 37,
    "start_time": "2024-09-19T22:41:13.496Z"
   },
   {
    "duration": 35,
    "start_time": "2024-09-19T22:41:13.535Z"
   },
   {
    "duration": 217,
    "start_time": "2024-09-19T22:41:13.572Z"
   },
   {
    "duration": 123,
    "start_time": "2024-09-19T22:41:13.792Z"
   },
   {
    "duration": 213,
    "start_time": "2024-09-19T22:41:13.917Z"
   },
   {
    "duration": 228,
    "start_time": "2024-09-19T22:41:14.132Z"
   },
   {
    "duration": 150,
    "start_time": "2024-09-19T22:41:14.362Z"
   },
   {
    "duration": 1220,
    "start_time": "2024-09-19T22:41:14.514Z"
   },
   {
    "duration": 562,
    "start_time": "2024-09-19T22:41:15.736Z"
   },
   {
    "duration": 1437,
    "start_time": "2024-09-19T22:41:16.300Z"
   },
   {
    "duration": 1182,
    "start_time": "2024-09-19T22:41:17.743Z"
   },
   {
    "duration": 524,
    "start_time": "2024-09-19T22:41:41.424Z"
   },
   {
    "duration": 2603,
    "start_time": "2024-09-19T22:41:41.950Z"
   },
   {
    "duration": 8,
    "start_time": "2024-09-19T22:41:44.555Z"
   },
   {
    "duration": 5,
    "start_time": "2024-09-19T22:41:44.565Z"
   },
   {
    "duration": 5,
    "start_time": "2024-09-19T22:41:44.573Z"
   },
   {
    "duration": 30,
    "start_time": "2024-09-19T22:41:44.579Z"
   },
   {
    "duration": 6,
    "start_time": "2024-09-19T22:41:44.610Z"
   },
   {
    "duration": 900,
    "start_time": "2024-09-19T22:41:44.618Z"
   },
   {
    "duration": 11,
    "start_time": "2024-09-19T22:41:45.519Z"
   },
   {
    "duration": 9,
    "start_time": "2024-09-19T22:41:45.532Z"
   },
   {
    "duration": 8,
    "start_time": "2024-09-19T22:41:45.542Z"
   },
   {
    "duration": 8,
    "start_time": "2024-09-19T22:41:45.553Z"
   },
   {
    "duration": 56,
    "start_time": "2024-09-19T22:41:45.562Z"
   },
   {
    "duration": 95,
    "start_time": "2024-09-19T22:41:45.622Z"
   },
   {
    "duration": 8,
    "start_time": "2024-09-19T22:41:45.719Z"
   },
   {
    "duration": 109,
    "start_time": "2024-09-19T22:41:45.730Z"
   },
   {
    "duration": 12,
    "start_time": "2024-09-19T22:41:45.840Z"
   },
   {
    "duration": 11,
    "start_time": "2024-09-19T22:41:45.854Z"
   },
   {
    "duration": 44,
    "start_time": "2024-09-19T22:41:45.866Z"
   },
   {
    "duration": 24,
    "start_time": "2024-09-19T22:41:45.912Z"
   },
   {
    "duration": 13,
    "start_time": "2024-09-19T22:41:45.938Z"
   },
   {
    "duration": 14,
    "start_time": "2024-09-19T22:41:45.953Z"
   },
   {
    "duration": 9,
    "start_time": "2024-09-19T22:41:45.968Z"
   },
   {
    "duration": 38,
    "start_time": "2024-09-19T22:41:45.979Z"
   },
   {
    "duration": 11,
    "start_time": "2024-09-19T22:41:46.018Z"
   },
   {
    "duration": 6,
    "start_time": "2024-09-19T22:41:46.031Z"
   },
   {
    "duration": 7,
    "start_time": "2024-09-19T22:41:46.039Z"
   },
   {
    "duration": 8,
    "start_time": "2024-09-19T22:41:46.048Z"
   },
   {
    "duration": 810,
    "start_time": "2024-09-19T22:41:46.058Z"
   },
   {
    "duration": 11,
    "start_time": "2024-09-19T22:41:46.869Z"
   },
   {
    "duration": 47,
    "start_time": "2024-09-19T22:41:46.882Z"
   },
   {
    "duration": 35,
    "start_time": "2024-09-19T22:41:46.931Z"
   },
   {
    "duration": 231,
    "start_time": "2024-09-19T22:41:46.969Z"
   },
   {
    "duration": 153,
    "start_time": "2024-09-19T22:41:47.202Z"
   },
   {
    "duration": 221,
    "start_time": "2024-09-19T22:41:47.357Z"
   },
   {
    "duration": 240,
    "start_time": "2024-09-19T22:41:47.580Z"
   },
   {
    "duration": 152,
    "start_time": "2024-09-19T22:41:47.822Z"
   },
   {
    "duration": 1181,
    "start_time": "2024-09-19T22:41:47.976Z"
   },
   {
    "duration": 392,
    "start_time": "2024-09-19T22:41:49.159Z"
   },
   {
    "duration": 1326,
    "start_time": "2024-09-19T22:41:49.553Z"
   },
   {
    "duration": 1152,
    "start_time": "2024-09-19T22:41:50.884Z"
   },
   {
    "duration": 164,
    "start_time": "2024-09-19T22:43:00.697Z"
   },
   {
    "duration": 431,
    "start_time": "2024-09-19T22:43:09.274Z"
   },
   {
    "duration": 2708,
    "start_time": "2024-09-19T22:43:09.707Z"
   },
   {
    "duration": 10,
    "start_time": "2024-09-19T22:43:12.417Z"
   },
   {
    "duration": 5,
    "start_time": "2024-09-19T22:43:12.430Z"
   },
   {
    "duration": 4,
    "start_time": "2024-09-19T22:43:12.437Z"
   },
   {
    "duration": 5,
    "start_time": "2024-09-19T22:43:12.443Z"
   },
   {
    "duration": 5,
    "start_time": "2024-09-19T22:43:12.449Z"
   },
   {
    "duration": 886,
    "start_time": "2024-09-19T22:43:12.456Z"
   },
   {
    "duration": 13,
    "start_time": "2024-09-19T22:43:13.344Z"
   },
   {
    "duration": 14,
    "start_time": "2024-09-19T22:43:13.361Z"
   },
   {
    "duration": 10,
    "start_time": "2024-09-19T22:43:13.377Z"
   },
   {
    "duration": 27,
    "start_time": "2024-09-19T22:43:13.389Z"
   },
   {
    "duration": 23,
    "start_time": "2024-09-19T22:43:13.418Z"
   },
   {
    "duration": 112,
    "start_time": "2024-09-19T22:43:13.443Z"
   },
   {
    "duration": 8,
    "start_time": "2024-09-19T22:43:13.557Z"
   },
   {
    "duration": 105,
    "start_time": "2024-09-19T22:43:13.566Z"
   },
   {
    "duration": 12,
    "start_time": "2024-09-19T22:43:13.673Z"
   },
   {
    "duration": 25,
    "start_time": "2024-09-19T22:43:13.687Z"
   },
   {
    "duration": 28,
    "start_time": "2024-09-19T22:43:13.714Z"
   },
   {
    "duration": 24,
    "start_time": "2024-09-19T22:43:13.744Z"
   },
   {
    "duration": 40,
    "start_time": "2024-09-19T22:43:13.770Z"
   },
   {
    "duration": 12,
    "start_time": "2024-09-19T22:43:13.811Z"
   },
   {
    "duration": 7,
    "start_time": "2024-09-19T22:43:13.824Z"
   },
   {
    "duration": 8,
    "start_time": "2024-09-19T22:43:13.833Z"
   },
   {
    "duration": 9,
    "start_time": "2024-09-19T22:43:13.842Z"
   },
   {
    "duration": 6,
    "start_time": "2024-09-19T22:43:13.853Z"
   },
   {
    "duration": 6,
    "start_time": "2024-09-19T22:43:13.862Z"
   },
   {
    "duration": 8,
    "start_time": "2024-09-19T22:43:13.909Z"
   },
   {
    "duration": 816,
    "start_time": "2024-09-19T22:43:13.919Z"
   },
   {
    "duration": 12,
    "start_time": "2024-09-19T22:43:14.738Z"
   },
   {
    "duration": 41,
    "start_time": "2024-09-19T22:43:14.752Z"
   },
   {
    "duration": 53,
    "start_time": "2024-09-19T22:43:14.796Z"
   },
   {
    "duration": 208,
    "start_time": "2024-09-19T22:43:14.850Z"
   },
   {
    "duration": 130,
    "start_time": "2024-09-19T22:43:15.060Z"
   },
   {
    "duration": 218,
    "start_time": "2024-09-19T22:43:15.191Z"
   },
   {
    "duration": 227,
    "start_time": "2024-09-19T22:43:15.412Z"
   },
   {
    "duration": 155,
    "start_time": "2024-09-19T22:43:15.641Z"
   },
   {
    "duration": 1199,
    "start_time": "2024-09-19T22:43:15.798Z"
   },
   {
    "duration": 436,
    "start_time": "2024-09-19T22:43:16.998Z"
   },
   {
    "duration": 1349,
    "start_time": "2024-09-19T22:43:17.436Z"
   },
   {
    "duration": 1148,
    "start_time": "2024-09-19T22:43:18.786Z"
   },
   {
    "duration": 341,
    "start_time": "2024-09-19T22:43:19.936Z"
   }
  ],
  "kernelspec": {
   "display_name": "Python 3 (ipykernel)",
   "language": "python",
   "name": "python3"
  },
  "language_info": {
   "codemirror_mode": {
    "name": "ipython",
    "version": 3
   },
   "file_extension": ".py",
   "mimetype": "text/x-python",
   "name": "python",
   "nbconvert_exporter": "python",
   "pygments_lexer": "ipython3",
   "version": "3.9.19"
  },
  "toc": {
   "base_numbering": 1,
   "nav_menu": {},
   "number_sections": true,
   "sideBar": true,
   "skip_h1_title": true,
   "title_cell": "Table of Contents",
   "title_sidebar": "Contents",
   "toc_cell": false,
   "toc_position": {},
   "toc_section_display": true,
   "toc_window_display": false
  }
 },
 "nbformat": 4,
 "nbformat_minor": 5
}
